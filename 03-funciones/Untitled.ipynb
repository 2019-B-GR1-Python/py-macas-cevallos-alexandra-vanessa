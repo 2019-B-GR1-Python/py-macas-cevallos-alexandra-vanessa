{
 "cells": [
  {
   "cell_type": "code",
   "execution_count": 4,
   "metadata": {},
   "outputs": [
    {
     "name": "stdout",
     "output_type": "stream",
     "text": [
      "hola ale\n"
     ]
    }
   ],
   "source": [
    "def hola_mundo():\n",
    "   print(\"hola ale\")\n",
    "hola_mundo()\n"
   ]
  },
  {
   "cell_type": "code",
   "execution_count": 10,
   "metadata": {},
   "outputs": [
    {
     "name": "stdout",
     "output_type": "stream",
     "text": [
      "suma 3\n"
     ]
    }
   ],
   "source": [
    "def sumar_dos_numero(num_uno,num_dos): #argumentos requeridos\n",
    "    return num_uno + num_dos\n",
    "suma = sumar_dos_numero(1,2)\n",
    "print(f\"suma {suma}\")\n",
    "    "
   ]
  },
  {
   "cell_type": "code",
   "execution_count": 12,
   "metadata": {},
   "outputs": [
    {
     "name": "stdout",
     "output_type": "stream",
     "text": [
      "EPN\n",
      "ESPE\n"
     ]
    }
   ],
   "source": [
    "def imprimir_universidad(nombre = 'EPN'):\n",
    "    print(f\"{nombre}\")\n",
    "imprimir_universidad()\n",
    "imprimir_universidad(\"ESPE\")"
   ]
  },
  {
   "cell_type": "code",
   "execution_count": 18,
   "metadata": {},
   "outputs": [
    {
     "name": "stdout",
     "output_type": "stream",
     "text": [
      "Color:Blanco\n",
      "Placa:abc-123\n",
      "Caballos de fuerza:2000\n",
      "Año:1970\n",
      "Color:azul\n",
      "Placa:DEF-456\n",
      "Caballos de fuerza:3500\n",
      "Año:2005\n",
      "Color:Cafe\n",
      "Placa:mns-543\n",
      "Caballos de fuerza:3500\n",
      "Año:2003\n"
     ]
    }
   ],
   "source": [
    "def imprimir_carro(color, placa, hp, anio = 1990):\n",
    "    print(f\"Color:{color}\")\n",
    "    print(f\"Placa:{placa}\")\n",
    "    print(f\"Caballos de fuerza:{hp}\")\n",
    "    print(f\"Año:{anio}\")\n",
    "imprimir_carro(\"Blanco\", \"abc-123\",2000,1970)\n",
    "imprimir_carro(anio = 2005,\n",
    "              color = \"azul\",\n",
    "              placa = \"DEF-456\",\n",
    "              hp = 3500)  \n",
    "#named parameters\n",
    "imprimir_carro(\"Cafe\", \"mns-543\",anio=2003, hp=3500)\n",
    "\n"
   ]
  },
  {
   "cell_type": "code",
   "execution_count": 19,
   "metadata": {},
   "outputs": [
    {
     "name": "stdout",
     "output_type": "stream",
     "text": [
      "<class 'int'>\n",
      "<class 'tuple'>\n"
     ]
    }
   ],
   "source": [
    "#parametros infinitos\n",
    "def sumar_numeros(primer_numero,\n",
    "                 *numeros):\n",
    "    print(type(primer_numero))\n",
    "    print(type(numeros))\n",
    "sumar_numeros(1,2)"
   ]
  },
  {
   "cell_type": "code",
   "execution_count": 32,
   "metadata": {},
   "outputs": [
    {
     "data": {
      "text/plain": [
       "6"
      ]
     },
     "execution_count": 32,
     "metadata": {},
     "output_type": "execute_result"
    }
   ],
   "source": [
    "#parametros infinitos\n",
    "def sumar_numeros(primer_numero,\n",
    "                 *numeros):\n",
    "   \n",
    "    longitud = len(numeros)\n",
    "    if(longitud == 0):\n",
    "        return primer_numero\n",
    "    else:\n",
    "        suma = primer_numero\n",
    "        for numero in numeros:\n",
    "            suma = suma + numero\n",
    "        return suma\n",
    "        \n",
    "sumar_numeros(1,2,3)       "
   ]
  },
  {
   "cell_type": "code",
   "execution_count": 43,
   "metadata": {},
   "outputs": [
    {
     "name": "stdout",
     "output_type": "stream",
     "text": [
      "<class 'dict'>\n"
     ]
    }
   ],
   "source": [
    "def imprimir_configuraciones(nombre,\n",
    "                             valor =10,\n",
    "                             \n",
    "                             **key_word_arguments):\n",
    "    print(type(key_word_arguments))\n",
    "imprimir_configuraciones(nombre = \"config_1\",\n",
    "                         valor = 20,\n",
    "                         tiempo_espera = 10,\n",
    "                         conexiones = 55)   \n"
   ]
  },
  {
   "cell_type": "code",
   "execution_count": null,
   "metadata": {},
   "outputs": [],
   "source": []
  }
 ],
 "metadata": {
  "kernelspec": {
   "display_name": "Python 3",
   "language": "python",
   "name": "python3"
  },
  "language_info": {
   "codemirror_mode": {
    "name": "ipython",
    "version": 3
   },
   "file_extension": ".py",
   "mimetype": "text/x-python",
   "name": "python",
   "nbconvert_exporter": "python",
   "pygments_lexer": "ipython3",
   "version": "3.7.3"
  }
 },
 "nbformat": 4,
 "nbformat_minor": 2
}
