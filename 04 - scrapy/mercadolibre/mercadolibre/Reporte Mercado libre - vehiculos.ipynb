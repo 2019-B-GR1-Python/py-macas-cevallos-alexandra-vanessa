{
 "cells": [
  {
   "cell_type": "markdown",
   "metadata": {},
   "source": [
    "# Proyecto de 2 Bimestre"
   ]
  },
  {
   "cell_type": "markdown",
   "metadata": {},
   "source": [
    "## Vehiculos ofertados en Mercado libre Ecuador"
   ]
  },
  {
   "cell_type": "markdown",
   "metadata": {},
   "source": [
    "**Descripción:** Es un Dataset en formato **.csv**, que mediante el uso de scrapy se obtuvo el titulo del articulo, año, kilometraje, precio (valor), lugar (de venta)"
   ]
  },
  {
   "cell_type": "markdown",
   "metadata": {},
   "source": [
    "### Objetivo"
   ]
  },
  {
   "cell_type": "markdown",
   "metadata": {},
   "source": [
    "- Analizar y graficar la información del dataset vehiculo.csv"
   ]
  },
  {
   "cell_type": "markdown",
   "metadata": {},
   "source": [
    "### Desarrollo"
   ]
  },
  {
   "cell_type": "markdown",
   "metadata": {},
   "source": [
    "#### Selección y obtención de la fuente de datos"
   ]
  },
  {
   "cell_type": "markdown",
   "metadata": {},
   "source": [
    "La data se obtuvo del sitio web [Mercado Libre](https://vehiculos.mercadolibre.com.ec/), solo los vehiculos para realizar el analisis posterior."
   ]
  },
  {
   "cell_type": "markdown",
   "metadata": {},
   "source": [
    "## Proceso"
   ]
  },
  {
   "cell_type": "markdown",
   "metadata": {},
   "source": [
    "Mediante webscrapy se obtuvo los vehiculos que estan a la venta en en todo el pais ecuatoriano.\n",
    "\n",
    "El código para esa parte se la puede encotrar en la carpeta ***04-scrapy/mercadolibre***:https://github.com/2019-B-GR1-Python/py-macas-cevallos-alexandra-vanessa/tree/master/04%20-%20scrapy/mercadolibre/mercadolibre/mercadolibre. Mientras que la data esta en:\n",
    ".[04 - scrapy/mercadolibre/mercadolibre/mercadolibre/vehiculo.csv del proyect](https://github.com/2019-B-GR1-Python/py-macas-cevallos-alexandra-vanessa/blob/master/04%20-%20scrapy/mercadolibre/mercadolibre/mercadolibre/vehiculo.csv).\n",
    "\n",
    "Con la herramienta de spyder se carga los datos obetenidos anteriormente, realizando lo siguiente:\n",
    "\n",
    "- Limpieza de la data\n",
    "- Se identifican las marcas de vehiculos\n",
    "- Formato a los datos para posterior analizarlos"
   ]
  },
  {
   "cell_type": "markdown",
   "metadata": {},
   "source": [
    "#### Librerias"
   ]
  },
  {
   "cell_type": "code",
   "execution_count": null,
   "metadata": {},
   "outputs": [],
   "source": [
    "import pandas as pd\n",
    "import numpy as np\n",
    "import matplotlib.pyplot as plt\n",
    "import os\n",
    "import nltk\n",
    "import seaborn as sns"
   ]
  },
  {
   "cell_type": "markdown",
   "metadata": {},
   "source": [
    "#### Pre-procesamiento"
   ]
  },
  {
   "cell_type": "markdown",
   "metadata": {},
   "source": [
    "Para la lectura de los datos se relizo con el `pd.read_csv`, mientras que lo siguiente se dio formato a los datos para el valor (float) y el anio (int). Ademas se elimino los datos NAN con ***dropna()***."
   ]
  },
  {
   "cell_type": "code",
   "execution_count": null,
   "metadata": {},
   "outputs": [],
   "source": [
    "path_csv = \"C:\\\\Users\\\\Estudiante\\\\Documents\\\\GitHub\\\\py-macas-cevallos-alexandra-vanessa\\\\04 - scrapy\\\\mercadolibre\\\\mercadolibre\\\\mercadolibre\\\\vehiculo.csv\"\n",
    "data_frame_test = pd.read_csv(path_csv,  encoding = 'unicode_escape',sep = \";\")\n",
    "data_frame_test.dropna()\n",
    "data_frame_test.dtypes\n",
    "d = data_frame_test['titulo'].str.split(' ').str[0]\n",
    "df = pd.DataFrame(d)\n",
    "data_frame_test['marca'] = df\n",
    "cols = data_frame_test.columns.tolist()\n",
    "cols = cols[-1:] + cols[:-1]\n",
    "data_frame_test = data_frame_test[cols]"
   ]
  },
  {
   "cell_type": "markdown",
   "metadata": {},
   "source": [
    "Como titulo tenia tanto la marca y el modelo en una misma linea de la celda, se separo con el siguiente código"
   ]
  },
  {
   "cell_type": "code",
   "execution_count": null,
   "metadata": {},
   "outputs": [],
   "source": [
    "d = data_frame_test['titulo'].str.split(' ').str[0]\n",
    "df = pd.DataFrame(d)\n",
    "data_frame_test['marca'] = df\n",
    "cols = data_frame_test.columns.tolist()\n",
    "cols = cols[-1:] + cols[:-1]\n",
    "data_frame_test = data_frame_test[cols]"
   ]
  },
  {
   "cell_type": "markdown",
   "metadata": {},
   "source": [
    "Verificar el tipo de los datos para usarlos correctamente:"
   ]
  },
  {
   "cell_type": "markdown",
   "metadata": {},
   "source": [
    "    marca           object\n",
    "    titulo          object\n",
    "    valor          float64\n",
    "    anio             int64\n",
    "    kilometraje     object\n",
    "    lugar           object\n",
    "    dtype: object"
   ]
  },
  {
   "cell_type": "markdown",
   "metadata": {},
   "source": [
    "El tamaño del dataset es:`(1205, 6)`"
   ]
  },
  {
   "cell_type": "code",
   "execution_count": null,
   "metadata": {},
   "outputs": [],
   "source": [
    "print(data_frame_test.shape)\n",
    "\n",
    "(1205, 6)"
   ]
  },
  {
   "cell_type": "markdown",
   "metadata": {},
   "source": [
    "#### Procesamiento y analisis de datos."
   ]
  },
  {
   "cell_type": "markdown",
   "metadata": {},
   "source": [
    "**Las marcas más vendidas en ecuador**\n",
    "\n",
    "Como se observa chevrolet es la marca que mas se vende en todo el Ecuador, seguido de Toyota."
   ]
  },
  {
   "cell_type": "code",
   "execution_count": null,
   "metadata": {},
   "outputs": [],
   "source": [
    "plt.figure(figsize=(10,8))\n",
    "plt.title('Top 10 de marcas mas vendidas en Mercado libre')\n",
    "data_frame_test['marca'].value_counts().plot(kind='bar')\n",
    "plt.savefig(\"C:\\\\Users\\\\Estudiante\\\\Documents\\\\GitHub\\\\py-macas-cevallos-alexandra-vanessa\\\\04 - scrapy\\\\mercadolibre\\\\mercadolibre\\\\mercadolibre\\\\Top 10 de marcas mas vendidas.jpg\")\n",
    "plt.show()"
   ]
  },
  {
   "cell_type": "markdown",
   "metadata": {},
   "source": [
    "![Texto alternativo](https://github.com/2019-B-GR1-Python/py-macas-cevallos-alexandra-vanessa/blob/master/04%20-%20scrapy/mercadolibre/mercadolibre/mercadolibre/Top%2010%20de%20marcas%20mas%20vendidas.jpg?raw=true)\n",
    "\n",
    "    Chevrolet        338\n",
    "    Toyota           111\n",
    "    Hyundai           99\n",
    "    Ford              84\n",
    "    Kia               68\n",
    "    Nissan            68\n",
    "    Mazda             61\n",
    "    Renault           59\n",
    "    Volkswagen        41\n",
    "    Mitsubishi        33\n",
    "    Chery             27\n",
    "    Suzuki            22\n",
    "    Great             19\n",
    "    Honda             17\n",
    "    Citroën           16\n",
    "    Jeep              16\n",
    "    Fiat              15\n",
    "    Skoda             13\n",
    "    Mercedes-benz     11\n",
    "    Daewoo            10\n",
    "    Peugeot            9\n",
    "    Chevier            8\n",
    "    Ssangyong          7\n",
    "    Bmw                6\n",
    "    Jac                5\n",
    "    International      4\n",
    "    Byd                4\n",
    "    Tianye             4\n",
    "    Zotye              4\n",
    "    Datsun             3\n",
    "    Talbot             3\n",
    "    Dongfeng           3\n",
    "    Hino               1\n",
    "    Volgswagen         1\n",
    "    Gol                1\n",
    "    Polaris            1\n",
    "    Jmc                1\n",
    "    Changhe            1\n",
    "    Name: marca, dtype: int64"
   ]
  },
  {
   "cell_type": "markdown",
   "metadata": {},
   "source": [
    "***Año del modelo mas vendido***\n",
    "\n",
    "Como se observa el año que mas venden los vehiculos son del 2013, con 103."
   ]
  },
  {
   "cell_type": "code",
   "execution_count": null,
   "metadata": {},
   "outputs": [],
   "source": [
    "plt.figure(figsize=(10,8))\n",
    "plt.title('Año del modelo mas vendido')\n",
    "data_frame_test['anio'].value_counts().plot(kind='bar')\n",
    "plt.savefig(\"C:\\\\Users\\\\Estudiante\\\\Documents\\\\GitHub\\\\py-macas-cevallos-alexandra-vanessa\\\\04 - scrapy\\\\mercadolibre\\\\mercadolibre\\\\mercadolibre\\\\Año del modelo mas vendidos.jpg\")\n",
    "plt.show()"
   ]
  },
  {
   "cell_type": "markdown",
   "metadata": {},
   "source": [
    "![Texto alternativo](https://github.com/2019-B-GR1-Python/py-macas-cevallos-alexandra-vanessa/blob/master/04%20-%20scrapy/mercadolibre/mercadolibre/mercadolibre/A%C3%B1o%20del%20modelo%20mas%20vendidos.jpg?raw=true)\n",
    "\n",
    "    anio mas vendido\n",
    "    2013    103\n",
    "    2011     89\n",
    "    2009     87\n",
    "    2014     84\n",
    "    2007     79\n",
    "    2019     68\n",
    "    2015     64\n",
    "    2012     63\n",
    "    2010     60\n",
    "    2008     59\n",
    "    2006     55\n",
    "    2018     52\n",
    "    2005     41\n",
    "    1995     40\n",
    "    2017     35\n",
    "    2004     33\n",
    "    1998     26\n",
    "    2002     19\n",
    "    2020     16\n",
    "    2003     16\n",
    "    2016     15\n",
    "    1994     15\n",
    "    1996     14\n",
    "    2001     12\n",
    "    1997      9\n",
    "    1999      7\n",
    "    1988      7\n",
    "    1993      7\n",
    "    1992      7\n",
    "    1990      5\n",
    "    1975      3\n",
    "    1984      3\n",
    "    2000      3\n",
    "    1982      2\n",
    "    1979      2\n",
    "    1989      1\n",
    "    1977      1\n",
    "    1976      1\n",
    "    1991      1\n",
    "    1972      1\n",
    "    Name: anio, dtype: int64"
   ]
  },
  {
   "cell_type": "markdown",
   "metadata": {},
   "source": [
    "***Kilometraje de los autos que se venden en el Ecuador***\n",
    "\n",
    "Como se observa mas se ofertan vehiculos de 0 Km, por ende quienes mas publican la venta de los vehiculos son las consecionarias."
   ]
  },
  {
   "cell_type": "code",
   "execution_count": null,
   "metadata": {},
   "outputs": [],
   "source": [
    "plt.figure(figsize=(15,8))\n",
    "plt.title('Kilometraje que mas se vende')\n",
    "data_frame_test['kilometraje'].value_counts()[:15].plot(kind='bar')\n",
    "plt.savefig(\"C:\\\\Users\\\\Estudiante\\\\Documents\\\\GitHub\\\\py-macas-cevallos-alexandra-vanessa\\\\04 - scrapy\\\\mercadolibre\\\\mercadolibre\\\\mercadolibre\\\\Kilometraje que mas se vende.jpg\")\n",
    "plt.show()"
   ]
  },
  {
   "cell_type": "markdown",
   "metadata": {},
   "source": [
    "![t](https://github.com/2019-B-GR1-Python/py-macas-cevallos-alexandra-vanessa/blob/master/04%20-%20scrapy/mercadolibre/mercadolibre/mercadolibre/Kilometraje%20que%20mas%20se%20vende.jpg?raw=true)"
   ]
  },
  {
   "cell_type": "markdown",
   "metadata": {},
   "source": [
    "***Provincias que mas venden vehiculos***\n",
    "\n",
    "Pichincha es la provincia donde se vende mas vehiculos de todo el Ecuador"
   ]
  },
  {
   "cell_type": "code",
   "execution_count": null,
   "metadata": {},
   "outputs": [],
   "source": [
    "plt.figure(figsize=(15,8))\n",
    "plt.title('sitios que mas venden los vehiculos')\n",
    "data_frame_test['lugar'].value_counts().plot(kind='bar')\n",
    "plt.savefig(\"C:\\\\Users\\\\Estudiante\\\\Documents\\\\GitHub\\\\py-macas-cevallos-alexandra-vanessa\\\\04 - scrapy\\\\mercadolibre\\\\mercadolibre\\\\mercadolibre\\\\sitios que mas venden los vehiculos.jpg\")\n",
    "plt.show()"
   ]
  },
  {
   "cell_type": "markdown",
   "metadata": {},
   "source": [
    "![]()\n",
    "Pichincha ( Quito )               196\n",
    "Guayas                             56\n",
    "Azuay                              14\n",
    "Tungurahua                         13\n",
    "Manabí                             12\n",
    "El Oro                              8\n",
    "Imbabura                            6\n",
    "Cañar                               6\n",
    "Chimborazo                          6\n",
    "Cotopaxi                            6\n",
    "Santo Domingo De Los Tsáchilas      5\n",
    "Los Ríos                            4\n",
    "Pastaza                             3\n",
    "Loja                                2\n",
    "Napo                                1\n",
    "Name: lugar, dtype: int64\n",
    "\n",
    "data_frame_test.dtypes\n",
    "Out[166]: \n",
    "marca           object\n",
    "titulo          object\n",
    "valor          float64\n",
    "anio             int64\n",
    "kilometraje     object\n",
    "lugar           object\n",
    "dtype: object\n",
    "\n",
    "print(data_frame_test.shape)\n",
    "(1205, 6)\n",
    "\n",
    "data_frame_test['marca'].value_counts()\n",
    "Out[168]: \n",
    "Chevrolet        338\n",
    "Toyota           111\n",
    "Hyundai           99\n",
    "Ford              84\n",
    "Kia               68\n",
    "Nissan            68\n",
    "Mazda             61\n",
    "Renault           59\n",
    "Volkswagen        41\n",
    "Mitsubishi        33\n",
    "Chery             27\n",
    "Suzuki            22\n",
    "Great             19\n",
    "Honda             17\n",
    "Citroën           16\n",
    "Jeep              16\n",
    "Fiat              15\n",
    "Skoda             13\n",
    "Mercedes-benz     11\n",
    "Daewoo            10\n",
    "Peugeot            9\n",
    "Chevier            8\n",
    "Ssangyong          7\n",
    "Bmw                6\n",
    "Jac                5\n",
    "International      4\n",
    "Byd                4\n",
    "Tianye             4\n",
    "Zotye              4\n",
    "Datsun             3\n",
    "Talbot             3\n",
    "Dongfeng           3\n",
    "New                2\n",
    "John               1\n",
    "Multimarcas        1\n",
    "Todas              1\n",
    "Hino               1\n",
    "Vw                 1\n",
    "Lada               1\n",
    "Haval              1\n",
    "Scania             1\n",
    "Volgswagen         1\n",
    "Gol                1\n",
    "Polaris            1\n",
    "Jmc                1\n",
    "Changhe            1\n",
    "Todos              1\n",
    "Seguro             1\n",
    "Name: marca, dtype: int64\n",
    "\n",
    "data_frame_test['lugar'].value_counts()\n",
    "Out[169]: \n",
    "Pichincha ( Quito )               725\n",
    "Guayas                            204\n",
    "Manabí                             38\n",
    "Azuay                              36\n",
    "Tungurahua                         35\n",
    "Imbabura                           30\n",
    "Chimborazo                         29\n",
    "Santo Domingo De Los Tsáchilas     24\n",
    "El Oro                             22\n",
    "Cotopaxi                           16\n",
    "Loja                                9\n",
    "Carchi                              7\n",
    "Cañar                               6\n",
    "Santa Elena                         6\n",
    "Los Ríos                            5\n",
    "Esmeraldas                          4\n",
    "Pastaza                             3\n",
    "Bolívar                             3\n",
    "Napo                                2\n",
    "Zamora Chinchipe                    1\n",
    "Name: lugar, dtype: int64"
   ]
  },
  {
   "cell_type": "code",
   "execution_count": null,
   "metadata": {},
   "outputs": [],
   "source": []
  },
  {
   "cell_type": "code",
   "execution_count": null,
   "metadata": {},
   "outputs": [],
   "source": []
  }
 ],
 "metadata": {
  "kernelspec": {
   "display_name": "Python 3",
   "language": "python",
   "name": "python3"
  },
  "language_info": {
   "codemirror_mode": {
    "name": "ipython",
    "version": 3
   },
   "file_extension": ".py",
   "mimetype": "text/x-python",
   "name": "python",
   "nbconvert_exporter": "python",
   "pygments_lexer": "ipython3",
   "version": "3.7.4"
  }
 },
 "nbformat": 4,
 "nbformat_minor": 2
}
