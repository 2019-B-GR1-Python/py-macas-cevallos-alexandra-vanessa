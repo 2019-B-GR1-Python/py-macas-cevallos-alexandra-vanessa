{
 "cells": [
  {
   "cell_type": "markdown",
   "metadata": {},
   "source": [
    "# Proyecto de 2 Bimestre"
   ]
  },
  {
   "cell_type": "markdown",
   "metadata": {},
   "source": [
    "## Vehiculos ofertados en Mercado libre Ecuador"
   ]
  },
  {
   "cell_type": "markdown",
   "metadata": {},
   "source": [
    "**Descripción:** Es un Dataset en formato **.csv**, que mediante el uso de scrapy se obtuvo el titulo del articulo, año, kilometraje, precio (valor), lugar (de venta)"
   ]
  },
  {
   "cell_type": "markdown",
   "metadata": {},
   "source": [
    "### Objetivo"
   ]
  },
  {
   "cell_type": "markdown",
   "metadata": {},
   "source": [
    "- Analizar y graficar la información del dataset vehiculo.csv"
   ]
  },
  {
   "cell_type": "markdown",
   "metadata": {},
   "source": [
    "### Desarrollo"
   ]
  },
  {
   "cell_type": "markdown",
   "metadata": {},
   "source": [
    "#### Selección y obtención de la fuente de datos"
   ]
  },
  {
   "cell_type": "markdown",
   "metadata": {},
   "source": [
    "La data se obtuvo del sitio web [Mercado Libre](https://vehiculos.mercadolibre.com.ec/), solo los vehiculos para realizar el analisis posterior."
   ]
  },
  {
   "cell_type": "markdown",
   "metadata": {},
   "source": [
    "## Proceso"
   ]
  },
  {
   "cell_type": "markdown",
   "metadata": {},
   "source": [
    "Mediante webscrapy se obtuvo los vehiculos que estan a la venta en en todo el pais ecuatoriano.\n",
    "\n",
    "El código para esa parte se la puede encotrar en la carpeta ***04-scrapy/mercadolibre***:https://github.com/2019-B-GR1-Python/py-macas-cevallos-alexandra-vanessa/tree/master/04%20-%20scrapy/mercadolibre/mercadolibre/mercadolibre. Mientras que la data esta en:\n",
    ".[04 - scrapy/mercadolibre/mercadolibre/mercadolibre/vehiculo.csv del proyect](https://github.com/2019-B-GR1-Python/py-macas-cevallos-alexandra-vanessa/blob/master/04%20-%20scrapy/mercadolibre/mercadolibre/mercadolibre/vehiculo.csv).\n",
    "\n",
    "Con la herramienta de ***spyder***, link  se carga los datos obetenidos anteriormente, realizando lo siguiente:\n",
    "\n",
    "- Limpieza de la data\n",
    "- Se identifican las marcas de vehiculos\n",
    "- Formato a los datos para posterior analizarlos"
   ]
  },
  {
   "cell_type": "markdown",
   "metadata": {},
   "source": [
    "#### Librerias"
   ]
  },
  {
   "cell_type": "code",
   "execution_count": null,
   "metadata": {},
   "outputs": [],
   "source": [
    "import pandas as pd\n",
    "import numpy as np\n",
    "import matplotlib.pyplot as plt\n",
    "import os\n",
    "import nltk\n",
    "import seaborn as sns"
   ]
  },
  {
   "cell_type": "markdown",
   "metadata": {},
   "source": [
    "#### Pre-procesamiento"
   ]
  },
  {
   "cell_type": "markdown",
   "metadata": {},
   "source": [
    "Para la lectura de los datos se relizo con el `pd.read_csv`, mientras que lo siguiente se dio formato a los datos para el valor (float) y el anio (int). Ademas se elimino los datos NAN con ***dropna()***."
   ]
  },
  {
   "cell_type": "code",
   "execution_count": null,
   "metadata": {},
   "outputs": [],
   "source": [
    "path_csv = \"C:\\\\Users\\\\Estudiante\\\\Documents\\\\GitHub\\\\py-macas-cevallos-alexandra-vanessa\\\\04 - scrapy\\\\mercadolibre\\\\mercadolibre\\\\mercadolibre\\\\vehiculo.csv\"\n",
    "data_frame_test = pd.read_csv(path_csv,  encoding = 'unicode_escape',sep = \";\")\n",
    "data_frame_test.dropna()\n",
    "data_frame_test.dtypes\n",
    "d = data_frame_test['titulo'].str.split(' ').str[0]\n",
    "df = pd.DataFrame(d)\n",
    "data_frame_test['marca'] = df\n",
    "cols = data_frame_test.columns.tolist()\n",
    "cols = cols[-1:] + cols[:-1]\n",
    "data_frame_test = data_frame_test[cols]"
   ]
  },
  {
   "cell_type": "markdown",
   "metadata": {},
   "source": [
    "Como titulo tenia tanto la marca y el modelo en una misma linea de la celda, se separo con el siguiente código"
   ]
  },
  {
   "cell_type": "code",
   "execution_count": null,
   "metadata": {},
   "outputs": [],
   "source": [
    "d = data_frame_test['titulo'].str.split(' ').str[0]\n",
    "df = pd.DataFrame(d)\n",
    "data_frame_test['marca'] = df\n",
    "cols = data_frame_test.columns.tolist()\n",
    "cols = cols[-1:] + cols[:-1]\n",
    "data_frame_test = data_frame_test[cols]"
   ]
  },
  {
   "cell_type": "markdown",
   "metadata": {},
   "source": [
    "Verificar el tipo de los datos para usarlos correctamente:"
   ]
  },
  {
   "cell_type": "markdown",
   "metadata": {},
   "source": [
    "    marca           object\n",
    "    titulo          object\n",
    "    valor          float64\n",
    "    anio             int64\n",
    "    kilometraje     object\n",
    "    lugar           object\n",
    "    dtype: object"
   ]
  },
  {
   "cell_type": "markdown",
   "metadata": {},
   "source": [
    "El tamaño del dataset es:`(1205, 6)`"
   ]
  },
  {
   "cell_type": "code",
   "execution_count": null,
   "metadata": {},
   "outputs": [],
   "source": [
    "print(data_frame_test.shape)\n",
    "\n",
    "(1205, 6)"
   ]
  },
  {
   "cell_type": "markdown",
   "metadata": {},
   "source": [
    "#### Procesamiento y analisis de datos."
   ]
  },
  {
   "cell_type": "markdown",
   "metadata": {},
   "source": [
    "**Las marcas más vendidas en ecuador**\n",
    "\n",
    "Como se observa chevrolet es la marca que mas se vende en todo el Ecuador, seguido de Toyota."
   ]
  },
  {
   "cell_type": "code",
   "execution_count": null,
   "metadata": {},
   "outputs": [],
   "source": [
    "plt.figure(figsize=(10,8))\n",
    "plt.title('Top 10 de marcas mas vendidas en Mercado libre')\n",
    "data_frame_test['marca'].value_counts().plot(kind='bar')\n",
    "plt.savefig(\"C:\\\\Users\\\\Estudiante\\\\Documents\\\\GitHub\\\\py-macas-cevallos-alexandra-vanessa\\\\04 - scrapy\\\\mercadolibre\\\\mercadolibre\\\\mercadolibre\\\\Top 10 de marcas mas vendidas.jpg\")\n",
    "plt.show()"
   ]
  },
  {
   "cell_type": "markdown",
   "metadata": {},
   "source": [
    "![Texto alternativo](https://github.com/2019-B-GR1-Python/py-macas-cevallos-alexandra-vanessa/blob/master/04%20-%20scrapy/mercadolibre/mercadolibre/mercadolibre/Top%2010%20de%20marcas%20mas%20vendidas.jpg?raw=true)\n",
    "\n",
    "    Chevrolet        338\n",
    "    Toyota           111\n",
    "    Hyundai           99\n",
    "    Ford              84\n",
    "    Kia               68\n",
    "    Nissan            68\n",
    "    Mazda             61\n",
    "    Renault           59\n",
    "    Volkswagen        41\n",
    "    Mitsubishi        33\n",
    "    Chery             27\n",
    "    Suzuki            22\n",
    "    Great             19\n",
    "    Honda             17\n",
    "    Citroën           16\n",
    "    Jeep              16\n",
    "    Fiat              15\n",
    "    Skoda             13\n",
    "    Mercedes-benz     11\n",
    "    Daewoo            10\n",
    "    Peugeot            9\n",
    "    Chevier            8\n",
    "    Ssangyong          7\n",
    "    Bmw                6\n",
    "    Jac                5\n",
    "    International      4\n",
    "    Byd                4\n",
    "    Tianye             4\n",
    "    Zotye              4\n",
    "    Datsun             3\n",
    "    Talbot             3\n",
    "    Dongfeng           3\n",
    "    Hino               1\n",
    "    Volgswagen         1\n",
    "    Gol                1\n",
    "    Polaris            1\n",
    "    Jmc                1\n",
    "    Changhe            1\n",
    "    Name: marca, dtype: int64"
   ]
  },
  {
   "cell_type": "markdown",
   "metadata": {},
   "source": [
    "***Año del modelo mas vendido***\n",
    "\n",
    "Como se observa el año que mas venden los vehiculos son del 2013, con 103."
   ]
  },
  {
   "cell_type": "code",
   "execution_count": null,
   "metadata": {},
   "outputs": [],
   "source": [
    "plt.figure(figsize=(10,8))\n",
    "plt.title('Año del modelo mas vendido')\n",
    "data_frame_test['anio'].value_counts().plot(kind='bar')\n",
    "plt.savefig(\"C:\\\\Users\\\\Estudiante\\\\Documents\\\\GitHub\\\\py-macas-cevallos-alexandra-vanessa\\\\04 - scrapy\\\\mercadolibre\\\\mercadolibre\\\\mercadolibre\\\\Año del modelo mas vendidos.jpg\")\n",
    "plt.show()"
   ]
  },
  {
   "cell_type": "markdown",
   "metadata": {},
   "source": [
    "![Texto alternativo](https://github.com/2019-B-GR1-Python/py-macas-cevallos-alexandra-vanessa/blob/master/04%20-%20scrapy/mercadolibre/mercadolibre/mercadolibre/A%C3%B1o%20del%20modelo%20mas%20vendidos.jpg?raw=true)\n",
    "\n",
    "    anio mas vendido\n",
    "    2013    103\n",
    "    2011     89\n",
    "    2009     87\n",
    "    2014     84\n",
    "    2007     79\n",
    "    2019     68\n",
    "    2015     64\n",
    "    2012     63\n",
    "    2010     60\n",
    "    2008     59\n",
    "    2006     55\n",
    "    2018     52\n",
    "    2005     41\n",
    "    1995     40\n",
    "    2017     35\n",
    "    2004     33\n",
    "    1998     26\n",
    "    2002     19\n",
    "    2020     16\n",
    "    2003     16\n",
    "    2016     15\n",
    "    1994     15\n",
    "    1996     14\n",
    "    2001     12\n",
    "    1997      9\n",
    "    1999      7\n",
    "    1988      7\n",
    "    1993      7\n",
    "    1992      7\n",
    "    1990      5\n",
    "    1975      3\n",
    "    1984      3\n",
    "    2000      3\n",
    "    1982      2\n",
    "    1979      2\n",
    "    1989      1\n",
    "    1977      1\n",
    "    1976      1\n",
    "    1991      1\n",
    "    1972      1\n",
    "    Name: anio, dtype: int64"
   ]
  },
  {
   "cell_type": "markdown",
   "metadata": {},
   "source": [
    "***Kilometraje de los autos que se venden en el Ecuador***\n",
    "\n",
    "Como se observa mas se ofertan vehiculos de 0 Km, por ende quienes mas publican la venta de los vehiculos son las consecionarias."
   ]
  },
  {
   "cell_type": "code",
   "execution_count": null,
   "metadata": {},
   "outputs": [],
   "source": [
    "plt.figure(figsize=(15,8))\n",
    "plt.title('Kilometraje que mas se vende')\n",
    "data_frame_test['kilometraje'].value_counts()[:15].plot(kind='bar')\n",
    "plt.savefig(\"C:\\\\Users\\\\Estudiante\\\\Documents\\\\GitHub\\\\py-macas-cevallos-alexandra-vanessa\\\\04 - scrapy\\\\mercadolibre\\\\mercadolibre\\\\mercadolibre\\\\Kilometraje que mas se vende.jpg\")\n",
    "plt.show()"
   ]
  },
  {
   "cell_type": "markdown",
   "metadata": {},
   "source": [
    "![t](https://github.com/2019-B-GR1-Python/py-macas-cevallos-alexandra-vanessa/blob/master/04%20-%20scrapy/mercadolibre/mercadolibre/mercadolibre/Kilometraje%20que%20mas%20se%20vende.jpg?raw=true)"
   ]
  },
  {
   "cell_type": "markdown",
   "metadata": {},
   "source": [
    "***Provincias que mas venden vehiculos***\n",
    "\n",
    "Pichincha es la provincia donde se vende mas vehiculos de todo el Ecuador con un total de 196."
   ]
  },
  {
   "cell_type": "code",
   "execution_count": null,
   "metadata": {},
   "outputs": [],
   "source": [
    "plt.figure(figsize=(15,8))\n",
    "plt.title('sitios que mas venden los vehiculos')\n",
    "data_frame_test['lugar'].value_counts().plot(kind='bar')\n",
    "plt.savefig(\"C:\\\\Users\\\\Estudiante\\\\Documents\\\\GitHub\\\\py-macas-cevallos-alexandra-vanessa\\\\04 - scrapy\\\\mercadolibre\\\\mercadolibre\\\\mercadolibre\\\\sitios que mas venden los vehiculos.jpg\")\n",
    "plt.show()"
   ]
  },
  {
   "cell_type": "markdown",
   "metadata": {},
   "source": [
    "![](https://github.com/2019-B-GR1-Python/py-macas-cevallos-alexandra-vanessa/blob/master/04%20-%20scrapy/mercadolibre/mercadolibre/mercadolibre/sitios%20que%20mas%20venden%20los%20vehiculos.jpg?raw=true)\n",
    "   \n",
    "    Pichincha ( Quito )               196\n",
    "    Guayas                             56\n",
    "    Azuay                              14\n",
    "    Tungurahua                         13\n",
    "    Manabí                             12\n",
    "    El Oro                              8\n",
    "    Imbabura                            6\n",
    "    Cañar                               6\n",
    "    Chimborazo                          6\n",
    "    Cotopaxi                            6\n",
    "    Santo Domingo De Los Tsáchilas      5\n",
    "    Los Ríos                            4\n",
    "    Pastaza                             3\n",
    "    Loja                                2\n",
    "    Napo                                1\n",
    "    Name: lugar, dtype: int64\n"
   ]
  },
  {
   "cell_type": "markdown",
   "metadata": {},
   "source": [
    "***Las 5 mejores marcas vendidas en Pichincha ( Quito )***\n",
    "\n",
    "Chevrolet sigue siendo la marca mas vendida, no solo a nivel nacional sino mas en Pichincha."
   ]
  },
  {
   "cell_type": "code",
   "execution_count": null,
   "metadata": {},
   "outputs": [],
   "source": [
    "plt.title(\"Las 5 mejores marcas vendidas en Pichincha ( Quito )\")\n",
    "valor =  data_frame_test.marca[data_frame_test.lugar=='Pichincha ( Quito )'].value_counts()[:5]\n",
    "marca = ['Chevrolet','Toyota','Ford','Hyundai','Kia']\n",
    "plt.pie(valor, labels=marca, autopct='%1.1f%%',\n",
    "        shadow=True, startangle=90, radius = 1800)\n",
    "plt.axis('equal')\n",
    "plt.savefig(\"C:\\\\Users\\\\Estudiante\\\\Documents\\\\GitHub\\\\py-macas-cevallos-alexandra-vanessa\\\\04 - scrapy\\\\mercadolibre\\\\mercadolibre\\\\mercadolibre\\\\Las 5 mejores marcas vendidas en Pichincha ( Quito ).jpg\")\n",
    "plt.show()"
   ]
  },
  {
   "cell_type": "markdown",
   "metadata": {},
   "source": [
    "![](https://github.com/2019-B-GR1-Python/py-macas-cevallos-alexandra-vanessa/blob/master/04%20-%20scrapy/mercadolibre/mercadolibre/mercadolibre/Las%205%20mejores%20marcas%20vendidas%20en%20Pichincha%20(%20Quito%20).jpg?raw=true)"
   ]
  },
  {
   "cell_type": "markdown",
   "metadata": {},
   "source": [
    "***Año de los vehiculo mas vendidos en Pichincha ( Quito )***\n",
    "\n",
    "Se ofrecen mas vehiculo del 2013"
   ]
  },
  {
   "cell_type": "code",
   "execution_count": null,
   "metadata": {},
   "outputs": [],
   "source": [
    "plt.title(\"Año de los vehiculo mas vendidos en Pichincha ( Quito )\")\n",
    "valor_anio =  data_frame_test.anio[data_frame_test.lugar=='Pichincha ( Quito )'].value_counts()[:10]\n",
    "valor_anio_etiqueta = [2013,2007,2014,2011,2009,2019,2018,2012,2006,2008]\n",
    "plt.pie(valor_anio, labels=valor_anio_etiqueta, autopct='%1.1f%%',\n",
    "        shadow=True, startangle=90, radius = 1800)\n",
    "plt.axis('equal')\n",
    "plt.savefig(\"C:\\\\Users\\\\Estudiante\\\\Documents\\\\GitHub\\\\py-macas-cevallos-alexandra-vanessa\\\\04 - scrapy\\\\mercadolibre\\\\mercadolibre\\\\mercadolibre\\\\Año de los vehiculo mas vendidos en Pichincha ( Quito ).jpg\")\n",
    "plt.show()"
   ]
  },
  {
   "cell_type": "markdown",
   "metadata": {},
   "source": [
    "![](https://github.com/2019-B-GR1-Python/py-macas-cevallos-alexandra-vanessa/blob/master/04%20-%20scrapy/mercadolibre/mercadolibre/mercadolibre/A%C3%B1o%20de%20los%20vehiculo%20mas%20vendidos%20en%20Pichincha%20(%20Quito%20).jpg?raw=true)"
   ]
  },
  {
   "cell_type": "markdown",
   "metadata": {},
   "source": [
    "***Precio de los vehiculo mas vendidos en Pichincha ( Quito )***\n",
    "\n",
    "El precio de los vehiculos son superiores a los $10.000\n"
   ]
  },
  {
   "cell_type": "code",
   "execution_count": null,
   "metadata": {},
   "outputs": [],
   "source": [
    "plt.title(\"Precio de los vehiculo mas vendidos en Pichincha ( Quito )\")\n",
    "data_frame_test.valor[data_frame_test.lugar=='Pichincha ( Quito )'].value_counts()[:5].plot(kind='bar')\n",
    "plt.savefig(\"C:\\\\Users\\\\Estudiante\\\\Documents\\\\GitHub\\\\py-macas-cevallos-alexandra-vanessa\\\\04 - scrapy\\\\mercadolibre\\\\mercadolibre\\\\mercadolibre\\\\Precio de los vehiculo mas vendidos en Pichincha ( Quito ).jpg\")\n",
    "plt.show()"
   ]
  },
  {
   "cell_type": "markdown",
   "metadata": {},
   "source": [
    "![](https://github.com/2019-B-GR1-Python/py-macas-cevallos-alexandra-vanessa/blob/master/04%20-%20scrapy/mercadolibre/mercadolibre/mercadolibre/Precio%20de%20los%20vehiculo%20mas%20vendidos%20en%20Pichincha%20(%20Quito%20).jpg?raw=true)"
   ]
  },
  {
   "cell_type": "markdown",
   "metadata": {},
   "source": [
    "***Kilometraje de los vehiculo mas vendidos en Pichincha ( Quito )***\n",
    "\n",
    "Los vehiculos son nuevos que mas se ofrecen en Pichincha"
   ]
  },
  {
   "cell_type": "code",
   "execution_count": null,
   "metadata": {},
   "outputs": [],
   "source": [
    "fig = plt.figure(figsize=(10,8))\n",
    "ax = fig.add_subplot(1, 1, 1)\n",
    "ax.plot(data_frame_test.kilometraje[data_frame_test.lugar=='Pichincha ( Quito )'].value_counts()[:10],'ko--')\n",
    "ax.set_title('Kilometraje de los vehiculo mas vendidos en Pichincha ( Quito )')\n",
    "ax.set_xlabel('Kilometraje')\n",
    "ax.set_ylabel('N. ofertas')\n",
    "plt.savefig(\"C:\\\\Users\\\\Estudiante\\\\Documents\\\\GitHub\\\\py-macas-cevallos-alexandra-vanessa\\\\04 - scrapy\\\\mercadolibre\\\\mercadolibre\\\\mercadolibre\\\\Kilometraje de los vehiculo mas vendidos en Pichincha ( Quito ).jpg\")"
   ]
  },
  {
   "cell_type": "markdown",
   "metadata": {},
   "source": [
    "![](https://github.com/2019-B-GR1-Python/py-macas-cevallos-alexandra-vanessa/blob/master/04%20-%20scrapy/mercadolibre/mercadolibre/mercadolibre/Kilometraje%20de%20los%20vehiculo%20mas%20vendidos%20en%20Pichincha%20(%20Quito%20).jpg?raw=true)\n",
    "\n",
    "     0 km         50\n",
    "     200000 km    22\n",
    "     150000 km    19\n",
    "     125000 km    15\n",
    "     100000 km    12\n",
    "     120000 km    11\n",
    "     77000 km     11\n",
    "     220000 km    11\n",
    "     124000 km    10\n",
    "     156000 km    10\n",
    "Name: kilometraje, dtype: int64"
   ]
  },
  {
   "cell_type": "markdown",
   "metadata": {},
   "source": [
    "***Precios ofertados en la marca Chevrolet***\n",
    "\n",
    "Los precios que mas se venden de los chevrolet son de 10.000 ademas se observa un vehiculo de 45.000 en cual es un deportivo (Chevrolet Sail Cupe)"
   ]
  },
  {
   "cell_type": "code",
   "execution_count": null,
   "metadata": {},
   "outputs": [],
   "source": [
    "plt.figure(figsize=(20,8))\n",
    "plt.title('Precios ofrecidos en los vehiculos de Chevrolet')\n",
    "edades_hombres = data_frame_test.valor[data_frame_test.marca=='Chevrolet'].value_counts().plot(kind='bar')\n",
    "plt.savefig(\"C:\\\\Users\\\\Estudiante\\\\Documents\\\\GitHub\\\\py-macas-cevallos-alexandra-vanessa\\\\04 - scrapy\\\\mercadolibre\\\\mercadolibre\\\\mercadolibre\\\\Precios ofrecidos en los vehiculos de Chevrolet.jpg\")\n",
    "plt.show()\n",
    "\n",
    "data_frame_test.titulo[data_frame_test.valor==45.0]"
   ]
  },
  {
   "cell_type": "markdown",
   "metadata": {},
   "source": [
    "![](https://github.com/2019-B-GR1-Python/py-macas-cevallos-alexandra-vanessa/blob/master/04%20-%20scrapy/mercadolibre/mercadolibre/mercadolibre/Precios%20ofrecidos%20en%20los%20vehiculos%20de%20Chevrolet.jpg?raw=true)\n",
    "\n",
    "    Out[172]: \n",
    "    916    Chevrolet Sail Cupe\n",
    "    Name: titulo, dtype: object"
   ]
  },
  {
   "cell_type": "markdown",
   "metadata": {},
   "source": [
    "***Top 10 de los kilometrajes de chevrolet mas vendidos***\n",
    "\n",
    "Los kilometrajes son superiores a los 70.000 km"
   ]
  },
  {
   "cell_type": "code",
   "execution_count": null,
   "metadata": {},
   "outputs": [],
   "source": [
    "fig = plt.figure(figsize=(15,8))\n",
    "ax = fig.add_subplot(1, 1, 1)\n",
    "ax.plot(data_frame_test.kilometraje[data_frame_test.marca=='Chevrolet'].value_counts()[:10],'ko--')\n",
    "ax.set_title('Top 10 de los kilometrajes de chevrolet mas vendidos')\n",
    "ax.set_xlabel('Kilometraje')\n",
    "ax.set_ylabel('N. veces')\n",
    "plt.savefig(\"C:\\\\Users\\\\Estudiante\\\\Documents\\\\GitHub\\\\py-macas-cevallos-alexandra-vanessa\\\\04 - scrapy\\\\mercadolibre\\\\mercadolibre\\\\mercadolibre\\\\Top 10 de los kilometrajes de chevrolet mas vendidos.jpg\")"
   ]
  },
  {
   "cell_type": "markdown",
   "metadata": {},
   "source": [
    "![](https://github.com/2019-B-GR1-Python/py-macas-cevallos-alexandra-vanessa/blob/master/04%20-%20scrapy/mercadolibre/mercadolibre/mercadolibre/Top%2010%20de%20los%20kilometrajes%20de%20chevrolet%20mas%20vendidos.jpg?raw=true)"
   ]
  },
  {
   "cell_type": "markdown",
   "metadata": {},
   "source": [
    "***Top 10 del año del modelo que chevrolet mas vende***\n",
    "\n",
    "Chevrolet vende mas vehiculos del 2014"
   ]
  },
  {
   "cell_type": "code",
   "execution_count": null,
   "metadata": {},
   "outputs": [],
   "source": [
    "plt.figure(figsize=(20,8))\n",
    "plt.title('Top 10 de los años que chevrolet mas vendidos')\n",
    "edades_hombres = data_frame_test.anio[data_frame_test.marca=='Chevrolet'].value_counts().plot(kind='bar')\n",
    "plt.savefig(\"C:\\\\Users\\\\Estudiante\\\\Documents\\\\GitHub\\\\py-macas-cevallos-alexandra-vanessa\\\\04 - scrapy\\\\mercadolibre\\\\mercadolibre\\\\mercadolibre\\\\Top 10 de los años que chevrolet mas vendidos.jpg\")\n",
    "plt.show()"
   ]
  },
  {
   "cell_type": "markdown",
   "metadata": {},
   "source": [
    "![](https://github.com/2019-B-GR1-Python/py-macas-cevallos-alexandra-vanessa/blob/master/04%20-%20scrapy/mercadolibre/mercadolibre/mercadolibre/Top%2010%20de%20los%20a%C3%B1os%20que%20chevrolet%20mas%20vendidos.jpg?raw=true)\n",
    "\n",
    "    2014    29\n",
    "    2009    28\n",
    "    2015    26\n",
    "    2013    26\n",
    "    2011    25\n",
    "    2018    21\n",
    "    2006    20\n",
    "    2019    18\n",
    "    2010    18\n",
    "    2008    17\n",
    "    1993     1\n",
    "    2000     1\n",
    "    2001     1\n",
    "    Name: anio, dtype: int64"
   ]
  },
  {
   "cell_type": "markdown",
   "metadata": {},
   "source": [
    "***Top 10 de los lugares que mas se vende chevrolet***\n",
    "\n",
    "Vende mas la marca chevrolet en Pichincha."
   ]
  },
  {
   "cell_type": "code",
   "execution_count": null,
   "metadata": {},
   "outputs": [],
   "source": [
    "plt.figure(figsize=(20,8))\n",
    "plt.title('Top 10 de los años que chevrolet mas vendidos')\n",
    "edades_hombres = data_frame_test.lugar[data_frame_test.marca=='Chevrolet'].value_counts().plot(kind='barh')\n",
    "plt.savefig(\"C:\\\\Users\\\\Estudiante\\\\Documents\\\\GitHub\\\\py-macas-cevallos-alexandra-vanessa\\\\04 - scrapy\\\\mercadolibre\\\\mercadolibre\\\\mercadolibre\\\\Top 10 de los lugares que mas se vende chevrolet.jpg\")\n",
    "plt.show()"
   ]
  },
  {
   "cell_type": "markdown",
   "metadata": {},
   "source": [
    "![](https://github.com/2019-B-GR1-Python/py-macas-cevallos-alexandra-vanessa/blob/master/04%20-%20scrapy/mercadolibre/mercadolibre/mercadolibre/Top%2010%20de%20los%20lugares%20que%20mas%20se%20vende%20chevrolet.jpg?raw=true)\n",
    "\n",
    "    Out[174]: \n",
    "    Pichincha ( Quito )               196\n",
    "    Guayas                             56\n",
    "    Azuay                              14\n",
    "    Tungurahua                         13\n",
    "    Manabí                             12\n",
    "    El Oro                              8\n",
    "    Imbabura                            6\n",
    "    Cañar                               6\n",
    "    Chimborazo                          6\n",
    "    Cotopaxi                            6\n",
    "    Santo Domingo De Los Tsáchilas      5\n",
    "    Los Ríos                            4\n",
    "    Pastaza                             3\n",
    "    Loja                                2\n",
    "    Napo                                1\n",
    "    Name: lugar, dtype: int64"
   ]
  },
  {
   "cell_type": "markdown",
   "metadata": {},
   "source": [
    "***Marca Vs Precio***"
   ]
  },
  {
   "cell_type": "code",
   "execution_count": null,
   "metadata": {},
   "outputs": [],
   "source": [
    "plot = data_frame_test.plot(x='marca', y='valor')\n",
    "plot.set_ylim(0, 1000)\n",
    "plt.savefig(\"C:\\\\Users\\\\Estudiante\\\\Documents\\\\GitHub\\\\py-macas-cevallos-alexandra-vanessa\\\\04 - scrapy\\\\mercadolibre\\\\mercadolibre\\\\mercadolibre\\\\Marca Vs Precio.jpg\")\n",
    "# "
   ]
  },
  {
   "cell_type": "markdown",
   "metadata": {},
   "source": [
    "![](https://github.com/2019-B-GR1-Python/py-macas-cevallos-alexandra-vanessa/blob/master/04%20-%20scrapy/mercadolibre/mercadolibre/mercadolibre/Marca%20Vs%20Precio.jpg?raw=true)"
   ]
  },
  {
   "cell_type": "code",
   "execution_count": null,
   "metadata": {},
   "outputs": [],
   "source": []
  }
 ],
 "metadata": {
  "kernelspec": {
   "display_name": "Python 3",
   "language": "python",
   "name": "python3"
  },
  "language_info": {
   "codemirror_mode": {
    "name": "ipython",
    "version": 3
   },
   "file_extension": ".py",
   "mimetype": "text/x-python",
   "name": "python",
   "nbconvert_exporter": "python",
   "pygments_lexer": "ipython3",
   "version": "3.7.4"
  }
 },
 "nbformat": 4,
 "nbformat_minor": 2
}
