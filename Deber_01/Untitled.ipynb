{
 "cells": [
  {
   "cell_type": "code",
   "execution_count": 1,
   "metadata": {},
   "outputs": [
    {
     "name": "stdout",
     "output_type": "stream",
     "text": [
      "o\n"
     ]
    }
   ],
   "source": [
    "print(\"o\")"
   ]
  },
  {
   "cell_type": "code",
   "execution_count": 2,
   "metadata": {},
   "outputs": [
    {
     "name": "stdout",
     "output_type": "stream",
     "text": [
      "Selecciona una opción\n",
      "\t1 - ingresar padre\n",
      "\t2 - ingresar hijo\n",
      "\t3 - consultar padre\n",
      "\t4 - consultar hijo\n",
      "\t5 - modificar padre\n",
      "\t6 - modificar hijo\n",
      "\t7 - eliminar padre\n",
      "\t8 - eliminar hijo\n",
      "\t9 - salir\n",
      "inserta un numero valor >> 1\n",
      "\n",
      "ingrese el nombre del padre >> pap\n",
      "Selecciona una opción\n",
      "\t1 - ingresar padre\n",
      "\t2 - ingresar hijo\n",
      "\t3 - consultar padre\n",
      "\t4 - consultar hijo\n",
      "\t5 - modificar padre\n",
      "\t6 - modificar hijo\n",
      "\t7 - eliminar padre\n",
      "\t8 - eliminar hijo\n",
      "\t9 - salir\n",
      "inserta un numero valor >> 9\n"
     ]
    }
   ],
   "source": [
    "import os\n",
    "\n",
    "def menu():\n",
    "    os.system('clear') # NOTA para windows tienes que cambiar clear por cls\n",
    "    print (\"Selecciona una opción\")\n",
    "    print (\"\\t1 - ingresar padre\")\n",
    "    print (\"\\t2 - ingresar hijo\")\n",
    "    print (\"\\t3 - consultar padre\")\n",
    "    print (\"\\t4 - consultar hijo\")\n",
    "    print (\"\\t5 - modificar padre\")\n",
    "    print (\"\\t6 - modificar hijo\")\n",
    "    print (\"\\t7 - eliminar padre\")\n",
    "    print (\"\\t8 - eliminar hijo\")\n",
    "    print (\"\\t9 - salir\")\n",
    " \n",
    " \n",
    "while True:\n",
    "    # Mostramos el menu\n",
    "    menu()\n",
    "    \n",
    "    # solicituamos una opción al usuario\n",
    "    opcionMenu = input(\"inserta un numero valor >> \")\n",
    "    \n",
    "    if opcionMenu==\"1\":\n",
    "        print (\"\")\n",
    "        padre = input(\"ingrese el nombre del padre >> \")\n",
    "        try:\n",
    "            path = \"./padre.txt\"\n",
    "            archivo_abierto_escritura = open(path,mode=\"a\")\n",
    "            archivo_abierto_escritura.write(f\"{padre}\")\n",
    "            archivo_abierto_escritura.close()\n",
    "        except Exception as error:\n",
    "            print('error')\n",
    "            \n",
    "    elif opcionMenu==\"2\":\n",
    "        print (\"\")\n",
    "        input(\"Has pulsado la opción 2...\\npulsa una tecla para continuar\")\n",
    "    elif opcionMenu==\"3\":\n",
    "        print (\"\")\n",
    "        input(\"Has pulsado la opción 3...\\npulsa una tecla para continuar\")\n",
    "    elif opcionMenu==\"4\":\n",
    "        print (\"\")\n",
    "        input(\"Has pulsado la opción 3...\\npulsa una tecla para continuar\")\n",
    "    elif opcionMenu==\"5\":\n",
    "        print (\"\")\n",
    "        input(\"Has pulsado la opción 3...\\npulsa una tecla para continuar\")\n",
    "    elif opcionMenu==\"6\":\n",
    "        print (\"\")\n",
    "        input(\"Has pulsado la opción 3...\\npulsa una tecla para continuar\")\n",
    "    elif opcionMenu==\"7\":\n",
    "        print (\"\")\n",
    "        input(\"Has pulsado la opción 3...\\npulsa una tecla para continuar\")\n",
    "    elif opcionMenu==\"8\":\n",
    "        print (\"\")\n",
    "        input(\"Has pulsado la opción 3...\\npulsa una tecla para continuar\")\n",
    "    elif opcionMenu==\"9\":\n",
    "        break\n",
    "    else:\n",
    "        print (\"\")\n",
    "        input(\"No has pulsado ninguna opción correcta...\\npulsa una tecla para continuar\")"
   ]
  },
  {
   "cell_type": "code",
   "execution_count": null,
   "metadata": {},
   "outputs": [],
   "source": []
  }
 ],
 "metadata": {
  "kernelspec": {
   "display_name": "Python 3",
   "language": "python",
   "name": "python3"
  },
  "language_info": {
   "codemirror_mode": {
    "name": "ipython",
    "version": 3
   },
   "file_extension": ".py",
   "mimetype": "text/x-python",
   "name": "python",
   "nbconvert_exporter": "python",
   "pygments_lexer": "ipython3",
   "version": "3.7.3"
  }
 },
 "nbformat": 4,
 "nbformat_minor": 2
}
