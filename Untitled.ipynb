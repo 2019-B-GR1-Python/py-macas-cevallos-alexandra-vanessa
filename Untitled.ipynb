{
 "cells": [
  {
   "cell_type": "code",
   "execution_count": 1,
   "metadata": {},
   "outputs": [
    {
     "ename": "SyntaxError",
     "evalue": "invalid syntax (<ipython-input-1-00ac1c7fb974>, line 1)",
     "output_type": "error",
     "traceback": [
      "\u001b[1;36m  File \u001b[1;32m\"<ipython-input-1-00ac1c7fb974>\"\u001b[1;36m, line \u001b[1;32m1\u001b[0m\n\u001b[1;33m    limpiar_tokenizar <- function(Text){\u001b[0m\n\u001b[1;37m                                       ^\u001b[0m\n\u001b[1;31mSyntaxError\u001b[0m\u001b[1;31m:\u001b[0m invalid syntax\n"
     ]
    }
   ],
   "source": [
    "limpiar_tokenizar <- function(Text){\n",
    " \n",
    "    nuevo_texto <- tolower(Text)\n",
    "   \n",
    "    nuevo_texto <-  replace(nuevo_texto,\"http\\\\S*\", \"\")\n",
    " \n",
    "   \n",
    "    return(nuevo_texto)\n",
    "}\n",
    "\n",
    "tweets <- tweets %>% mutate(texto_tokenizado = map(.x = Text,\n",
    "                                                   .f = limpiar_tokenizar))\n",
    "tweets %>% select(texto_tokenizado) %>% head()\n"
   ]
  },
  {
   "cell_type": "code",
   "execution_count": null,
   "metadata": {},
   "outputs": [],
   "source": []
  }
 ],
 "metadata": {
  "kernelspec": {
   "display_name": "Python 3",
   "language": "python",
   "name": "python3"
  },
  "language_info": {
   "codemirror_mode": {
    "name": "ipython",
    "version": 3
   },
   "file_extension": ".py",
   "mimetype": "text/x-python",
   "name": "python",
   "nbconvert_exporter": "python",
   "pygments_lexer": "ipython3",
   "version": "3.7.3"
  }
 },
 "nbformat": 4,
 "nbformat_minor": 2
}
