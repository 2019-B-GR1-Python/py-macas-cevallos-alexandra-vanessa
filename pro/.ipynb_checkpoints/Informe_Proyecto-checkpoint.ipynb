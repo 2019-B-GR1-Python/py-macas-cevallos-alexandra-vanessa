{
 "cells": [
  {
   "cell_type": "markdown",
   "metadata": {},
   "source": [
    "# Proyecto de 1 Bimestre"
   ]
  },
  {
   "cell_type": "markdown",
   "metadata": {},
   "source": [
    "## Ganadores de las seis Grandes Maratones Mundiales"
   ]
  },
  {
   "cell_type": "markdown",
   "metadata": {},
   "source": [
    "**Descripción:** Es un Dataset con el nombre de los ganadores de las seis Grandes Maratones Mundiales, incluido el año, así como el género, el tiempo, la edad, el país del ganador y la el marathon."
   ]
  },
  {
   "cell_type": "markdown",
   "metadata": {},
   "source": [
    "### Objetivo"
   ]
  },
  {
   "cell_type": "markdown",
   "metadata": {},
   "source": [
    "- Analizar y graficar la información del dataset."
   ]
  },
  {
   "cell_type": "markdown",
   "metadata": {},
   "source": [
    "### Desarrollo"
   ]
  },
  {
   "cell_type": "markdown",
   "metadata": {},
   "source": [
    "#### Selección y obtención de la fuente de datos"
   ]
  },
  {
   "cell_type": "markdown",
   "metadata": {},
   "source": [
    "El data se los descargo del sitio web [DATA WORLD](https://data.world/), el cual se puede encontrar miles de recursos de datos abiertos y gratuitos para trabajar.\n",
    "\n",
    "La data seleccionada fue **Abbott World Marathon Majors Winners**:https://data.world/newns92/abbott-world-marathon-majors-winners , en el formato del archivo (csv).\n"
   ]
  },
  {
   "cell_type": "markdown",
   "metadata": {},
   "source": [
    "#### Pre-procesamiento de la data"
   ]
  },
  {
   "cell_type": "markdown",
   "metadata": {},
   "source": [
    "Primeramente se importo las siguientes libreias: "
   ]
  },
  {
   "cell_type": "code",
   "execution_count": null,
   "metadata": {},
   "outputs": [],
   "source": [
    "import pandas as pd\n",
    "import numpy as np\n",
    "import matplotlib.pyplot as plt\n",
    "import os"
   ]
  },
  {
   "cell_type": "markdown",
   "metadata": {},
   "source": [
    "Para la lectura de los datos se relizo con el `pd.read_csv`, mientras que lo siguiente se dio formato a los datos apartir del indice 2, ya que en esta columna se halla el año en que gano un participante y debe considerarse un tipo de dato entero.  "
   ]
  },
  {
   "cell_type": "code",
   "execution_count": null,
   "metadata": {},
   "outputs": [],
   "source": [
    "path_csv = \"C:\\\\Users\\\\Ale\\\\Documents\\\\GitHub\\\\py-macas-cevallos-alexandra-vanessa\\\\Proyecto_1_Bimestre\\\\data\\\\world_marathon_majors2.csv\"\n",
    "data_frame_test = pd.read_csv(path_csv,  encoding = 'unicode_escape',sep = \";\",parse_dates=[2],infer_datetime_format=True)"
   ]
  },
  {
   "cell_type": "markdown",
   "metadata": {},
   "source": [
    "Posterior se elimino los datos NAN."
   ]
  },
  {
   "cell_type": "code",
   "execution_count": null,
   "metadata": {},
   "outputs": [],
   "source": [
    "data_frame_test.dropna()"
   ]
  },
  {
   "cell_type": "markdown",
   "metadata": {},
   "source": [
    "Posterior se separo la columna **time** en dos, una para la Fecha y otra para la hora en que llego el ganador del maraton."
   ]
  },
  {
   "cell_type": "code",
   "execution_count": null,
   "metadata": {},
   "outputs": [],
   "source": [
    "temp = pd.DatetimeIndex(data_frame_test['time'])\n",
    "data_frame_test['Date'] = temp.date\n",
    "data_frame_test['Time'] = temp.time\n",
    "del data_frame_test['time']"
   ]
  },
  {
   "cell_type": "markdown",
   "metadata": {},
   "source": [
    "Verificar el tipo de los datos para usarlos correctamente:"
   ]
  },
  {
   "cell_type": "code",
   "execution_count": null,
   "metadata": {},
   "outputs": [],
   "source": [
    "data_frame_test.dtypes"
   ]
  },
  {
   "cell_type": "markdown",
   "metadata": {},
   "source": [
    "    no           int64\n",
    "    year         int64\n",
    "    winner      object\n",
    "    gender      object\n",
    "    age          int64\n",
    "    country     object\n",
    "    time        object\n",
    "    marathon    object\n",
    "    dtype: object"
   ]
  },
  {
   "cell_type": "markdown",
   "metadata": {},
   "source": [
    "El tamaño del dataset es:`(541, 9)`"
   ]
  },
  {
   "cell_type": "code",
   "execution_count": null,
   "metadata": {},
   "outputs": [],
   "source": [
    "print(data_frame_test.shape)"
   ]
  },
  {
   "cell_type": "markdown",
   "metadata": {},
   "source": [
    "#### Procesamiento y analisis de datos."
   ]
  },
  {
   "cell_type": "markdown",
   "metadata": {},
   "source": [
    "**Total de ganadores de los seis mundiales de maraton**"
   ]
  },
  {
   "cell_type": "code",
   "execution_count": null,
   "metadata": {},
   "outputs": [],
   "source": [
    "print (\"Han existido un total de: \",data_frame_test[\"winner\"].size,\" ganadores de los seis Grandes Maratones Mundiales de la historia\")\n",
    "print (data_frame_test[\"winner\"])"
   ]
  },
  {
   "cell_type": "markdown",
   "metadata": {},
   "source": [
    "    Han existido un total de:  541  ganadores de los seis Grandes Maratones Mundiales de la historia`\n",
    "    0            Dickson Chumba\n",
    "    1            Birhane Dibaba\n",
    "    2            Wilson Kipsang\n",
    "    3        Sarah Chepchirchir\n",
    "    4             Feyisa Lilesa\n",
    "    5              Helah Kiprop\n",
    "    6          Endeshaw Negesse\n",
    "    7            Birhane Dibaba\n",
    "    8            Dickson Chumba\n",
    "    9             Tirfi Tsegaye\n",
    "    10           Dennis Kimetto\n",
    "    11             Aberu Kebede\n",
    "    12          Michael Kipyego\n",
    "    13           Atsede Habtamu\n",
    "    14           Hailu Mekonnen\n",
    "    15           Noriko Higuchi\n",
    "    16        Masakazu Fujiwara\n",
    "    17     Alevtina Biktimirova\n",
    "    18            Salim Kipsang\n",
    "    19          Mizuho Nasukawa\n",
    "    20           Viktor Röthlin\n",
    "    21           Claudia Dreher\n",
    "    22            Daniel Njenga\n",
    "    23             Hitomi Niiya\n",
    "    24           Eliud Kipchoge\n",
    "    25           Gladys Cherono\n",
    "    26          Kenenisa Bekele\n",
    "    27             Aberu Kebede\n",
    "    28           Eliud Kipchoge\n",
    "    29           Gladys Cherono\n",
    "            \n",
    "    511            Midde Hamrin\n",
    "    512           Martín Pitayo\n",
    "    513            Aurora Cunha\n",
    "    514        Paul Davies-Hale\n",
    "    515         Lisa Weidenbach\n",
    "    516          Alejandro Cruz\n",
    "    517         Lisa Weidenbach\n",
    "    518                     nan\n",
    "    519                     nan\n",
    "    520          Toshihiko Seko\n",
    "    521      Ingrid Kristiansen\n",
    "    522             Steve Jones\n",
    "    523             Joan Benoit\n",
    "    524             Steve Jones\n",
    "    525               Rosa Mota\n",
    "    526             Joseph Nzau\n",
    "    527               Rosa Mota\n",
    "    528              Greg Meyer\n",
    "    529              Nancy Conz\n",
    "    530            Phil Coppess\n",
    "    531              Tina Gandy\n",
    "    532        Frank Richardson\n",
    "    533            Sue Peterson\n",
    "    534             Dan Cloeter\n",
    "    535          Laura Michalek\n",
    "    536          Mark Stanforth\n",
    "    537            Lynae Larson\n",
    "    538             Dan Cloeter\n",
    "    539       Dorothy Doolittle\n",
    "    540        Vivian Cheruiyot\n",
    "    Name: winner, Length: 541, dtype: object`"
   ]
  },
  {
   "cell_type": "markdown",
   "metadata": {},
   "source": [
    "***Top 10 de campeones de los maratones mundiales***\n",
    "\n",
    "Como se muestra en campeon numero ***1*** es: Grete Waitz con 11 veces que ha ganado los maratones mundiales."
   ]
  },
  {
   "cell_type": "code",
   "execution_count": null,
   "metadata": {},
   "outputs": [],
   "source": [
    "plt.figure(figsize=(15,6))\n",
    "plt.title('Top 10 de los ganadores de los maratones')\n",
    "ganadores_count = data_frame_test['winner'].value_counts()[:10].sort_values().plot(kind='barh')\n",
    "count_ganadores = data_frame_test['winner'].value_counts()[:10]\n",
    "print(count_ganadores)\n",
    "plt.savefig(\"C:\\\\Users\\\\Ale\\\\Documents\\\\GitHub\\\\py-macas-cevallos-alexandra-vanessa\\\\Proyecto_1_Bimestre\\\\evidence\\\\Top 10 de los ganadores de los maratones.jpg\")\n",
    "plt.show()"
   ]
  },
  {
   "cell_type": "markdown",
   "metadata": {},
   "source": [
    "![Texto alternativo](https://github.com/2019-B-GR1-Python/py-macas-cevallos-alexandra-vanessa/blob/desarrollo/Proyecto_1_Bimestre/evidence/Top%2010%20de%20los%20ganadores%20de%20los%20maratones.jpg?raw=true)\n",
    "\n",
    "    Grete Waitz           11\n",
    "    Bill Rodgers           8\n",
    "    Ingrid Kristiansen     8\n",
    "    Clarence DeMar         7\n",
    "    Paula Radcliffe        7\n",
    "    Uta Pippig             7\n",
    "    Catherine Ndereba      6\n",
    "    Eliud Kipchoge         6\n",
    "    Mary Keitany           6\n",
    "    Rosa Mota              6\n",
    "    Name: winner, dtype: int64"
   ]
  },
  {
   "cell_type": "markdown",
   "metadata": {},
   "source": [
    "***Marathones que ha ganado Greate Waitz***\n",
    "\n",
    "Esta campeona ha ganado mas veces en el marathon mundial realizado en New York City con 9 veces campeón, y con 2 veces ganador en el mundial de London."
   ]
  },
  {
   "cell_type": "code",
   "execution_count": null,
   "metadata": {},
   "outputs": [],
   "source": [
    "plt.figure(figsize=(10,6))\n",
    "plt.title('Maratones que ha ganado Grete Waitz')\n",
    "ganadors_count = data_frame_test.marathon[data_frame_test.winner=='Grete Waitz'].value_counts().sort_values().plot(kind='barh')\n",
    "count_ganador = data_frame_test.marathon[data_frame_test.winner=='Grete Waitz'].value_counts()\n",
    "print(count_ganador)\n",
    "plt.savefig(\"C:\\\\Users\\\\Ale\\\\Documents\\\\GitHub\\\\py-macas-cevallos-alexandra-vanessa\\\\Proyecto_1_Bimestre\\\\evidence\\\\Maratones que ha ganado Grete Waitz.jpg\")\n",
    "plt.show()"
   ]
  },
  {
   "cell_type": "markdown",
   "metadata": {},
   "source": [
    "![](https://github.com/2019-B-GR1-Python/py-macas-cevallos-alexandra-vanessa/blob/desarrollo/Proyecto_1_Bimestre/evidence/Maratones%20que%20ha%20ganado%20Grete%20Waitz.jpg?raw=true)\n",
    "\n",
    "    NYC       9\n",
    "    London    2\n",
    "    Name: marathon, dtype: int64"
   ]
  },
  {
   "cell_type": "markdown",
   "metadata": {},
   "source": [
    "***Segregación de ganadores por género***\n",
    "\n",
    "En este caso se puede visualizar que existen más participantes hombres que mujeres, siendo un diferencia del 24%, pero la campeona como antes se visualizo que más veces ha ganado los mundiales es una mujer."
   ]
  },
  {
   "cell_type": "code",
   "execution_count": null,
   "metadata": {},
   "outputs": [],
   "source": [
    "genero = data_frame_test['gender'].value_counts()\n",
    "tipo_genero = ['Male','Female']\n",
    "plt.figure(figsize=(5,6))\n",
    "plt.title('Segregación de ganadores por genero')\n",
    "plt.bar(tipo_genero, genero, color = 'orangered')\n",
    "for a,b in zip(tipo_genero, genero):\n",
    "    plt.text(a,b,str(b),  horizontalalignment='center', fontsize=15, family = 'fantasy',fontweight = 'bold')\n",
    "plt.savefig(\"C:\\\\Users\\\\Ale\\\\Documents\\\\GitHub\\\\py-macas-cevallos-alexandra-vanessa\\\\Proyecto_1_Bimestre\\\\evidence\\\\Segregación de ganadores por genero.jpg\")\n",
    "plt.show()\n",
    "\n",
    "print(\"El genero del campeon Grete Witz es:\", data_frame_test.gender[data_frame_test.winner=='Grete Waitz'])"
   ]
  },
  {
   "cell_type": "markdown",
   "metadata": {},
   "source": [
    "![](https://github.com/2019-B-GR1-Python/py-macas-cevallos-alexandra-vanessa/blob/desarrollo/Proyecto_1_Bimestre/evidence/Segregaci%C3%B3n%20de%20ganadores%20por%20genero.jpg?raw=true)\n",
    "\n",
    "    El genero del campeon Grete Witz es: Female"
   ]
  },
  {
   "cell_type": "markdown",
   "metadata": {},
   "source": [
    "***Participantes por edad de mujeres***\n",
    "\n",
    "En este grafico se visualiza que en el top 10 de la edades de las participantes es de 40 años con un 31 veces."
   ]
  },
  {
   "cell_type": "code",
   "execution_count": null,
   "metadata": {},
   "outputs": [],
   "source": [
    "plt.title('Particiaciones por edad de mujeres')\n",
    "edades_mujeres = data_frame_test.age[data_frame_test.gender=='Female'].value_counts()[:10].plot(kind = 'bar')\n",
    "data_frame_test.age[data_frame_test.gender=='Female'].value_counts()[:10]\n",
    "plt.savefig(\"C:\\\\Users\\\\Ale\\\\Documents\\\\GitHub\\\\py-macas-cevallos-alexandra-vanessa\\\\Proyecto_1_Bimestre\\\\evidence\\\\Participación por edad en mujeres.jpg\")\n",
    "plt.show()"
   ]
  },
  {
   "cell_type": "markdown",
   "metadata": {},
   "source": [
    "![](https://github.com/2019-B-GR1-Python/py-macas-cevallos-alexandra-vanessa/blob/desarrollo/Proyecto_1_Bimestre/evidence/Participaci%C3%B3n%20por%20edad%20en%20mujeres.jpg?raw=true)\n",
    "\n",
    "    40    31\n",
    "    30    29\n",
    "    35    25\n",
    "    45    18\n",
    "    50    15\n",
    "    20    14\n",
    "    28    12\n",
    "    25    12\n",
    "    31    10\n",
    "    22     9\n",
    "    Name: age, dtype: int64"
   ]
  },
  {
   "cell_type": "markdown",
   "metadata": {},
   "source": [
    "***Participantes por edad de hombres***\n",
    "\n",
    "En este grafico se visualiza que en el top 10 de la edades de los participantes es de 53 años, con un 21,7 %."
   ]
  },
  {
   "cell_type": "code",
   "execution_count": null,
   "metadata": {},
   "outputs": [],
   "source": [
    "edades_hombres = data_frame_test.age[data_frame_test.gender=='Male'].value_counts()[:10]\n",
    "plt.title('Particiaciones por edad de hombres')\n",
    "plt.pie(edades_hombres, labels=edades_hombres,autopct=\"%0.1f %%\")\n",
    "plt.axis(\"equal\")\n",
    "plt.savefig(\"C:\\\\Users\\\\Ale\\\\Documents\\\\GitHub\\\\py-macas-cevallos-alexandra-vanessa\\\\Proyecto_1_Bimestre\\\\evidence\\\\Participación por edad en hombres.jpg\")\n",
    "plt.show()"
   ]
  },
  {
   "cell_type": "markdown",
   "metadata": {},
   "source": [
    "![](https://github.com/2019-B-GR1-Python/py-macas-cevallos-alexandra-vanessa/blob/desarrollo/Proyecto_1_Bimestre/evidence/Participaci%C3%B3n%20por%20edad%20en%20hombres.jpg?raw=true)\n",
    "\n",
    "    30    53\n",
    "    40    46\n",
    "    35    35\n",
    "    20    31\n",
    "    45    25\n",
    "    25    14\n",
    "    28    12\n",
    "    50    10\n",
    "    29     9\n",
    "    31     9\n",
    "    Name: age, dtype: int64"
   ]
  },
  {
   "cell_type": "markdown",
   "metadata": {},
   "source": [
    "***Participantes por genero y rango de edad***\n",
    "\n",
    "Porcetanjes de participantes por rango de edad de los cuales en general son entre 18 a 25 años."
   ]
  },
  {
   "cell_type": "code",
   "execution_count": null,
   "metadata": {},
   "outputs": [],
   "source": [
    "edad = data_frame_test['age'].value_counts()[:10]\n",
    "edadNum = [int(x) for x in edad]\n",
    "#edadNum.sort()\n",
    "a = 0 \n",
    "b = 0 \n",
    "c = 0\n",
    "d = 0 \n",
    "e = 0 \n",
    "f = 0\n",
    "for i in edadNum:\n",
    "    if(i<=25):\n",
    "        a = a+1\n",
    "    elif(i<=35 and i>25):\n",
    "        b = b+1\n",
    "    elif(i<=45 and i>35):\n",
    "        c = c+1\n",
    "    elif(i<=55 and i>45):\n",
    "        d = d+1\n",
    "    elif(i<=65 and i>55):\n",
    "        e = e+1\n",
    "    else:\n",
    "        f = f+1\n",
    "\n",
    "edades = [a,b,c,d,e,f]\n",
    "edadesCat = ['De 18 a 25 años', 'De 26 a 35 años', 'De 36 a 45 años', \n",
    "             'De 46 a 55 años', 'De 56 a 65 años', 'De 65 años en adelante']\n",
    "\n",
    "plt.title(\"Porcetanjes de participantes por rango de edad\")\n",
    "plt.pie(edades, labels=edadesCat, autopct='%1.1f%%',\n",
    "        shadow=True, startangle=90, radius = 1800)\n",
    "plt.axis('equal')\n",
    "plt.savefig(\"C:\\\\Users\\\\Ale\\\\Documents\\\\GitHub\\\\py-macas-cevallos-alexandra-vanessa\\\\Proyecto_1_Bimestre\\\\evidence\\\\Porcetanjes de participantes por rango de edad.jpg\")\n",
    "plt.show()\n",
    "\n"
   ]
  },
  {
   "cell_type": "markdown",
   "metadata": {},
   "source": [
    "\n",
    "![](https://github.com/2019-B-GR1-Python/py-macas-cevallos-alexandra-vanessa/blob/desarrollo/Proyecto_1_Bimestre/evidence/Porcetanjes%20de%20participantes%20por%20rango%20de%20edad.jpg?raw=true)"
   ]
  },
  {
   "cell_type": "markdown",
   "metadata": {},
   "source": [
    "***Tiempos de llegada de los participantes***\n",
    "\n",
    "Llegan los ganadores en un promedio menor a 2h05m. "
   ]
  },
  {
   "cell_type": "code",
   "execution_count": null,
   "metadata": {},
   "outputs": [],
   "source": [
    "tiempo = data_frame_test['Time'].value_counts()[:10]\n",
    "tiemposM = ['< 2h05m', '< 2h10m', '< 2h20m', '< 2h30m', '< 2h40m', \n",
    "           '< 2h50m', '< 3h00m', '< 3h10m', '< 3h20m', '< 3h30m']\n",
    "y_tiempo = np.arange(len(tiemposM))\n",
    "plt.figure(figsize=(10,8))\n",
    "plt.title('Tiempos de llegada de los Participantes')\n",
    "plt.barh(y_tiempo, tiempo)\n",
    "for i, v in enumerate(tiempo):\n",
    "    plt.text(v + 3, i + .25, str(v), va='center', color='blue', fontweight='bold')\n",
    "plt.yticks(y_tiempo, tiemposM)\n",
    "plt.savefig(\"C:\\\\Users\\\\Ale\\\\Documents\\\\GitHub\\\\py-macas-cevallos-alexandra-vanessa\\\\Proyecto_1_Bimestre\\\\evidence\\\\Tiempos de llegada de los Participantes.jpg\")\n",
    "plt.show()"
   ]
  },
  {
   "cell_type": "markdown",
   "metadata": {},
   "source": [
    "![](https://github.com/2019-B-GR1-Python/py-macas-cevallos-alexandra-vanessa/blob/desarrollo/Proyecto_1_Bimestre/evidence/Tiempos%20de%20llegada%20de%20los%20Participantes.jpg?raw=true)"
   ]
  },
  {
   "cell_type": "markdown",
   "metadata": {},
   "source": [
    "***Pais con mayor numero de participantes***\n",
    "\n",
    "El pais Kenya tiene 136  participantes en los marathones mundiales, seguido de EEUU con 104, siendo paises en los cuales hay mas deportistas que ingresan a este campeonato.\n"
   ]
  },
  {
   "cell_type": "code",
   "execution_count": null,
   "metadata": {},
   "outputs": [],
   "source": [
    "plt.figure(figsize=(10,8))\n",
    "plt.title('Pais con mayor numero de participantes')\n",
    "data_frame_test['country'].value_counts().plot(kind='bar')\n",
    "plt.savefig(\"C:\\\\Users\\\\Ale\\\\Documents\\\\GitHub\\\\py-macas-cevallos-alexandra-vanessa\\\\Proyecto_1_Bimestre\\\\evidence\\\\Pais con mayor numero de participantes.jpg\")\n",
    "\n"
   ]
  },
  {
   "cell_type": "markdown",
   "metadata": {},
   "source": [
    "![](https://github.com/2019-B-GR1-Python/py-macas-cevallos-alexandra-vanessa/blob/desarrollo/Proyecto_1_Bimestre/evidence/Pais%20con%20mayor%20numero%20de%20participantes.jpg?raw=true)\n",
    "\n",
    "    Kenya             136\n",
    "    United States     104\n",
    "    Ethiopia           51\n",
    "    Germany            36\n",
    "    United Kingdom     35\n",
    "    Japan              22\n",
    "    Norway             20\n",
    "    Canada             17\n",
    "    Portugal           11\n",
    "    Finland            10\n",
    "    Mexico             10\n",
    "    Russia              8\n",
    "    Poland              8\n",
    "    Brazil              7\n",
    "    Italy               6\n",
    "    South Africa        5\n",
    "    New Zealand         5\n",
    "    Morocco             5\n",
    "    Belgium             5\n",
    "    Tanzania            4\n",
    "    South Korea         3\n",
    "    Ireland             3\n",
    "    Australia           3\n",
    "    Sweden              2\n",
    "    Latvia              2\n",
    "    Romania             2\n",
    "    Colombia            2\n",
    "    Greece              2\n",
    "    Spain               2\n",
    "    Denmark             2\n",
    "    Switzerland         2\n",
    "    Guatemala           1\n",
    "    Hungary             1\n",
    "    Eritrea             1\n",
    "    Soviet Union        1\n",
    "    Yugoslavia          1\n",
    "    China               1\n",
    "    Name: country, dtype: int64"
   ]
  },
  {
   "cell_type": "markdown",
   "metadata": {},
   "source": [
    "***Total de participantes ganadores por años***\n",
    "\n",
    "En el año 2014 hubo mas participantes en los mundiales, siendo seguido en 2017"
   ]
  },
  {
   "cell_type": "code",
   "execution_count": null,
   "metadata": {},
   "outputs": [],
   "source": [
    "plt.figure(figsize=(30,5))\n",
    "plt.title(\"Total de Participantes por año\")\n",
    "ganadores_anio = data_frame_test['year'].value_counts()[:40].sort_values().plot(kind='bar')\n",
    "plt.savefig(\"C:\\\\Users\\\\Ale\\\\Documents\\\\GitHub\\\\py-macas-cevallos-alexandra-vanessa\\\\Proyecto_1_Bimestre\\\\evidence\\\\Total de Participantes por año.jpg\")\n",
    "plt.show()"
   ]
  },
  {
   "cell_type": "markdown",
   "metadata": {},
   "source": [
    "![](https://github.com/2019-B-GR1-Python/py-macas-cevallos-alexandra-vanessa/blob/desarrollo/Proyecto_1_Bimestre/evidence/Total%20de%20Participantes%20por%20a%C3%B1o.jpg?raw=true)\n"
   ]
  },
  {
   "cell_type": "markdown",
   "metadata": {},
   "source": [
    "***Top 10 de los marathones mundiales***\n",
    "\n",
    "Boston es el marathon mundiales en donde ha habido mas mundiales con 176 veces."
   ]
  },
  {
   "cell_type": "code",
   "execution_count": null,
   "metadata": {},
   "outputs": [],
   "source": [
    "plt.title('Participantes en marathon')\n",
    "data_frame_test['marathon'].value_counts().plot(kind='bar')\n",
    "plt.savefig(\"C:\\\\Users\\\\Ale\\\\Documents\\\\GitHub\\\\py-macas-cevallos-alexandra-vanessa\\\\Proyecto_1_Bimestre\\\\evidence\\\\participantes en marathon.jpg\")\n"
   ]
  },
  {
   "cell_type": "markdown",
   "metadata": {},
   "source": [
    "![](https://github.com/2019-B-GR1-Python/py-macas-cevallos-alexandra-vanessa/blob/desarrollo/Proyecto_1_Bimestre/evidence/participantes%20en%20marathon.jpg?raw=true)\n",
    "\n",
    "    Boston     176\n",
    "    NYC         94\n",
    "    Berlin      88\n",
    "    Chicago     82\n",
    "    London      77\n",
    "    Tokyo       24\n",
    "    Name: marathon, dtype: int64"
   ]
  },
  {
   "cell_type": "markdown",
   "metadata": {},
   "source": [
    "***Paises que participaron en el marathon de BOSTON***\n",
    "\n",
    "En este caso EEUU ha sido un pais en el cual participa mas en estos eventos"
   ]
  },
  {
   "cell_type": "code",
   "execution_count": null,
   "metadata": {},
   "outputs": [],
   "source": [
    "plt.title('ciudades que participan en Boston')\n",
    "data_frame_test.country[data_frame_test.marathon=='Boston'].value_counts().plot(kind='bar')\n",
    "plt.savefig(\"C:\\\\Users\\\\Ale\\\\Documents\\\\GitHub\\\\py-macas-cevallos-alexandra-vanessa\\\\Proyecto_1_Bimestre\\\\evidence\\\\ciudades que participan en Boston.jpg\")"
   ]
  },
  {
   "cell_type": "markdown",
   "metadata": {},
   "source": [
    "![](https://github.com/2019-B-GR1-Python/py-macas-cevallos-alexandra-vanessa/blob/desarrollo/Proyecto_1_Bimestre/evidence/ciudades%20que%20participan%20en%20Boston.jpg?raw=true)\n",
    "\n",
    "    United States     59\n",
    "    Kenya             34\n",
    "    Canada            17\n",
    "    Ethiopia          13\n",
    "    Japan              9\n",
    "    Finland            7\n",
    "    Germany            6\n",
    "    Russia             4\n",
    "    United Kingdom     3\n",
    "    Portugal           3\n",
    "    New Zealand        3\n",
    "    South Korea        3\n",
    "    Greece             2\n",
    "    Norway             2\n",
    "    Belgium            2\n",
    "    Australia          1\n",
    "    Yugoslavia         1\n",
    "    Colombia           1\n",
    "    Poland             1\n",
    "    Sweden             1\n",
    "    Guatemala          1\n",
    "    Ireland            1\n",
    "    Italy              1\n",
    "    Name: country, dtype: int64\n"
   ]
  },
  {
   "cell_type": "markdown",
   "metadata": {},
   "source": [
    "***Participantes de EEUU***\n",
    "\n",
    "En este caso Bill Rodger es quien ha participado de EEUU en los maratones\n",
    "\n"
   ]
  },
  {
   "cell_type": "code",
   "execution_count": null,
   "metadata": {},
   "outputs": [],
   "source": [
    "plt.figure(figsize=(30,8))\n",
    "plt.title('Participantes de EEUU')\n",
    "data_frame_test.winner[data_frame_test.country=='United States'].value_counts().plot(kind='bar')\n",
    "plt.savefig(\"C:\\\\Users\\\\Ale\\\\Documents\\\\GitHub\\\\py-macas-cevallos-alexandra-vanessa\\\\Proyecto_1_Bimestre\\\\evidence\\\\Participantes de EEUU.jpg\")"
   ]
  },
  {
   "cell_type": "markdown",
   "metadata": {},
   "source": [
    "![](https://github.com/2019-B-GR1-Python/py-macas-cevallos-alexandra-vanessa/blob/desarrollo/Proyecto_1_Bimestre/evidence/Participantes%20de%20EEUU.jpg?raw=true)\n",
    "\n",
    "    Bill Rodgers              8\n",
    "    Clarence DeMar            7\n",
    "    Miki Gorman               4\n",
    "    Alberto Salazar           4\n",
    "    Bobbi Gibb                3\n",
    "    Sara Mae Berman           3\n",
    "    Nina Kuscsik              3\n",
    "    Joan Benoit               3\n",
    "    Leslie S. Pawson          3\n",
    "    Khalid Khannouchi         3\n",
    "    Meb Keflezighi            2\n",
    "    Greg Meyer                2\n",
    "    John A. Kelley            2\n",
    "    Ellison Brown             2\n",
    "    Tom Fleming               2\n",
    "    Lisa Weidenbach           2\n",
    "    Kim Merritt               2\n",
    "    Dan Cloeter               2\n",
    "    Deena Kastor              2\n",
    "    Laura Michalek            1\n",
    "    John Lorden               1\n",
    "    Michael Spring            1\n",
    "    Bill Kennedy              1\n",
    "    Michael J. Ryan           1\n",
    "    Nancy Conz                1\n",
    "    Tim Ford                  1\n",
    "    Gary Muhrcke              1\n",
    "    John J. Kelley            1\n",
    "    Thomas Morrissey          1\n",
    "    John J. McDermott         1\n",
    "                             ..\n",
    "    Frank Zuna                1\n",
    "    Galen Rupp                1\n",
    "    Joe Smith                 1\n",
    "    Lynae Larson              1\n",
    "    Jack Fultz                1\n",
    "    Kristy Johnston           1\n",
    "    Henri Renaud              1\n",
    "    Jon Anderson              1\n",
    "    Norbert Sander            1\n",
    "    Dorothy Doolittle         1\n",
    "    Sue Peterson              1\n",
    "    Desi Linden               1\n",
    "    Gayle Barron              1\n",
    "    Phil Coppess              1\n",
    "    Tina Gandy                1\n",
    "    Jacqueline Hansen         1\n",
    "    Lisa Larsen Weidenbach    1\n",
    "    Mark Stanforth            1\n",
    "    Carl Linder               1\n",
    "    Charles Mellor            1\n",
    "    James Henigan             1\n",
    "    Frederick Lorz            1\n",
    "    Dick Beardsley            1\n",
    "    Norman Higgins            1\n",
    "    Linda Somers              1\n",
    "    Lawrence Brignolia        1\n",
    "    Amby Burfoot              1\n",
    "    Frank Richardson          1\n",
    "    Shalane Flanagan          1\n",
    "    Kathrine Switzer          1\n",
    "    Name: winner, Length: 64, dtype: int64"
   ]
  },
  {
   "cell_type": "code",
   "execution_count": null,
   "metadata": {},
   "outputs": [],
   "source": []
  }
 ],
 "metadata": {
  "kernelspec": {
   "display_name": "Python 3",
   "language": "python",
   "name": "python3"
  },
  "language_info": {
   "codemirror_mode": {
    "name": "ipython",
    "version": 3
   },
   "file_extension": ".py",
   "mimetype": "text/x-python",
   "name": "python",
   "nbconvert_exporter": "python",
   "pygments_lexer": "ipython3",
   "version": "3.7.3"
  }
 },
 "nbformat": 4,
 "nbformat_minor": 2
}
