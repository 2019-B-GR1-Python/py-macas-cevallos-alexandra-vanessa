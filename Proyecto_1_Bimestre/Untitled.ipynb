{
 "cells": [
  {
   "cell_type": "markdown",
   "metadata": {},
   "source": [
    "# Proyecto de 1 Bimestre"
   ]
  },
  {
   "cell_type": "markdown",
   "metadata": {},
   "source": [
    "## Ganadores de las seis Grandes Maratones Mundiales"
   ]
  },
  {
   "cell_type": "markdown",
   "metadata": {},
   "source": [
    "**Descripción:** Es un Dataset con el nombre de los ganadores de las seis Grandes Maratones Mundiales, incluido el año, así como el género, el tiempo, la edad, el país del ganador y la el marathon."
   ]
  },
  {
   "cell_type": "markdown",
   "metadata": {},
   "source": [
    "### Objetivo"
   ]
  },
  {
   "cell_type": "markdown",
   "metadata": {},
   "source": [
    "- Analizar y graficar la información del dataset."
   ]
  },
  {
   "cell_type": "markdown",
   "metadata": {},
   "source": [
    "### Desarrollo"
   ]
  },
  {
   "cell_type": "markdown",
   "metadata": {},
   "source": [
    "#### Selección y obtención de la fuente de datos"
   ]
  },
  {
   "cell_type": "markdown",
   "metadata": {},
   "source": [
    "El data se los descargo del sitio web [DATA WORLD](https://data.world/), el cual se puede encontrar miles de recursos de datos abiertos y gratuitos para trabajar.\n",
    "\n",
    "La data seleccionada fue **Abbott World Marathon Majors Winners**:https://data.world/newns92/abbott-world-marathon-majors-winners , en el formato del archivo (csv).\n"
   ]
  },
  {
   "cell_type": "markdown",
   "metadata": {},
   "source": [
    "#### Pre-procesamiento de la data"
   ]
  },
  {
   "cell_type": "markdown",
   "metadata": {},
   "source": [
    "Primeramente se importo las siguientes libreias: "
   ]
  },
  {
   "cell_type": "code",
   "execution_count": null,
   "metadata": {},
   "outputs": [],
   "source": [
    "import pandas as pd\n",
    "import numpy as np\n",
    "import matplotlib.pyplot as plt\n",
    "import os"
   ]
  },
  {
   "cell_type": "markdown",
   "metadata": {},
   "source": [
    "Para la lectura de los datos se relizo con el `pd.read_csv`, mientras que lo siguiente se dio formato a los datos apartir del indice 2, ya que en esta columna se halla el año en que gano un participante y debe considerarse un tipo de dato entero.  "
   ]
  },
  {
   "cell_type": "code",
   "execution_count": null,
   "metadata": {},
   "outputs": [],
   "source": [
    "path_csv = \"C:\\\\Users\\\\Ale\\\\Documents\\\\GitHub\\\\py-macas-cevallos-alexandra-vanessa\\\\Proyecto_1_Bimestre\\\\data\\\\world_marathon_majors2.csv\"\n",
    "data_frame_test = pd.read_csv(path_csv,  encoding = 'unicode_escape',sep = \";\",parse_dates=[2],infer_datetime_format=True)"
   ]
  },
  {
   "cell_type": "markdown",
   "metadata": {},
   "source": [
    "Posterior se elimino los datos NAN."
   ]
  },
  {
   "cell_type": "code",
   "execution_count": null,
   "metadata": {},
   "outputs": [],
   "source": [
    "data_frame_test.dropna()"
   ]
  },
  {
   "cell_type": "markdown",
   "metadata": {},
   "source": [
    "Posterior se separo la columna **time** en dos, una para la Fecha y otra para la hora en que llego el ganador del maraton."
   ]
  },
  {
   "cell_type": "code",
   "execution_count": null,
   "metadata": {},
   "outputs": [],
   "source": [
    "temp = pd.DatetimeIndex(data_frame_test['time'])\n",
    "data_frame_test['Date'] = temp.date\n",
    "data_frame_test['Time'] = temp.time\n",
    "del data_frame_test['time']"
   ]
  },
  {
   "cell_type": "markdown",
   "metadata": {},
   "source": [
    "Verificar el tipo de los datos para usarlos correctamente:"
   ]
  },
  {
   "cell_type": "code",
   "execution_count": null,
   "metadata": {},
   "outputs": [],
   "source": [
    "data_frame_test.dtypes"
   ]
  },
  {
   "cell_type": "markdown",
   "metadata": {},
   "source": [
    "    no           int64\n",
    "    year         int64\n",
    "    winner      object\n",
    "    gender      object\n",
    "    age          int64\n",
    "    country     object\n",
    "    time        object\n",
    "    marathon    object\n",
    "    dtype: object"
   ]
  },
  {
   "cell_type": "markdown",
   "metadata": {},
   "source": [
    "El tamaño del dataset es:`(541, 9)`"
   ]
  },
  {
   "cell_type": "code",
   "execution_count": null,
   "metadata": {},
   "outputs": [],
   "source": [
    "print(data_frame_test.shape)"
   ]
  },
  {
   "cell_type": "markdown",
   "metadata": {},
   "source": [
    "#### Procesamiento y analisis de datos."
   ]
  },
  {
   "cell_type": "markdown",
   "metadata": {},
   "source": [
    "**Total de ganadores de los seis mundiales de maraton**"
   ]
  },
  {
   "cell_type": "code",
   "execution_count": null,
   "metadata": {},
   "outputs": [],
   "source": [
    "print (\"Han existido un total de: \",data_frame_test[\"winner\"].size,\" ganadores de los seis Grandes Maratones Mundiales de la historia\")\n",
    "print (data_frame_test[\"winner\"])"
   ]
  },
  {
   "cell_type": "markdown",
   "metadata": {},
   "source": [
    "    Han existido un total de:  541  ganadores de los seis Grandes Maratones Mundiales de la historia`\n",
    "    0            Dickson Chumba\n",
    "    1            Birhane Dibaba\n",
    "    2            Wilson Kipsang\n",
    "    3        Sarah Chepchirchir\n",
    "    4             Feyisa Lilesa\n",
    "    5              Helah Kiprop\n",
    "    6          Endeshaw Negesse\n",
    "    7            Birhane Dibaba\n",
    "    8            Dickson Chumba\n",
    "    9             Tirfi Tsegaye\n",
    "    10           Dennis Kimetto\n",
    "    11             Aberu Kebede\n",
    "    12          Michael Kipyego\n",
    "    13           Atsede Habtamu\n",
    "    14           Hailu Mekonnen\n",
    "    15           Noriko Higuchi\n",
    "    16        Masakazu Fujiwara\n",
    "    17     Alevtina Biktimirova\n",
    "    18            Salim Kipsang\n",
    "    19          Mizuho Nasukawa\n",
    "    20           Viktor Röthlin\n",
    "    21           Claudia Dreher\n",
    "    22            Daniel Njenga\n",
    "    23             Hitomi Niiya\n",
    "    24           Eliud Kipchoge\n",
    "    25           Gladys Cherono\n",
    "    26          Kenenisa Bekele\n",
    "    27             Aberu Kebede\n",
    "    28           Eliud Kipchoge\n",
    "    29           Gladys Cherono\n",
    "            \n",
    "    511            Midde Hamrin\n",
    "    512           Martín Pitayo\n",
    "    513            Aurora Cunha\n",
    "    514        Paul Davies-Hale\n",
    "    515         Lisa Weidenbach\n",
    "    516          Alejandro Cruz\n",
    "    517         Lisa Weidenbach\n",
    "    518                     nan\n",
    "    519                     nan\n",
    "    520          Toshihiko Seko\n",
    "    521      Ingrid Kristiansen\n",
    "    522             Steve Jones\n",
    "    523             Joan Benoit\n",
    "    524             Steve Jones\n",
    "    525               Rosa Mota\n",
    "    526             Joseph Nzau\n",
    "    527               Rosa Mota\n",
    "    528              Greg Meyer\n",
    "    529              Nancy Conz\n",
    "    530            Phil Coppess\n",
    "    531              Tina Gandy\n",
    "    532        Frank Richardson\n",
    "    533            Sue Peterson\n",
    "    534             Dan Cloeter\n",
    "    535          Laura Michalek\n",
    "    536          Mark Stanforth\n",
    "    537            Lynae Larson\n",
    "    538             Dan Cloeter\n",
    "    539       Dorothy Doolittle\n",
    "    540        Vivian Cheruiyot\n",
    "    Name: winner, Length: 541, dtype: object`"
   ]
  },
  {
   "cell_type": "markdown",
   "metadata": {},
   "source": [
    "***Top 10 de campeones de los maratones mundiales***\n",
    "\n",
    "Como se muestra en campeon numero ***1*** es: Grete Waitz con 11 veces que ha ganado los maratones mundiales."
   ]
  },
  {
   "cell_type": "code",
   "execution_count": null,
   "metadata": {},
   "outputs": [],
   "source": [
    "plt.figure(figsize=(15,6))\n",
    "plt.title('Top 10 de los ganadores de los maratones')\n",
    "ganadores_count = data_frame_test['winner'].value_counts()[:10].sort_values().plot(kind='barh')\n",
    "count_ganadores = data_frame_test['winner'].value_counts()[:10]\n",
    "print(count_ganadores)\n",
    "plt.savefig(\"C:\\\\Users\\\\Ale\\\\Documents\\\\GitHub\\\\py-macas-cevallos-alexandra-vanessa\\\\Proyecto_1_Bimestre\\\\evidence\\\\Top 10 de los ganadores de los maratones.jpg\")\n",
    "plt.show()"
   ]
  },
  {
   "cell_type": "markdown",
   "metadata": {},
   "source": [
    "![Texto alternativo](https://github.com/2019-B-GR1-Python/py-macas-cevallos-alexandra-vanessa/blob/desarrollo/Proyecto_1_Bimestre/evidence/Top%2010%20de%20los%20ganadores%20de%20los%20maratones.jpg?raw=true)\n",
    "\n",
    "    Grete Waitz           11\n",
    "    Bill Rodgers           8\n",
    "    Ingrid Kristiansen     8\n",
    "    Clarence DeMar         7\n",
    "    Paula Radcliffe        7\n",
    "    Uta Pippig             7\n",
    "    Catherine Ndereba      6\n",
    "    Eliud Kipchoge         6\n",
    "    Mary Keitany           6\n",
    "    Rosa Mota              6\n",
    "    Name: winner, dtype: int64"
   ]
  },
  {
   "cell_type": "markdown",
   "metadata": {},
   "source": [
    "***Marathones que ha ganado Greate Waitz***\n",
    "\n",
    "Esta campeona ha ganado mas veces en la mundial realizado en New York City con 9 veces campeón, y con 2 veces ganador en el mundial de London."
   ]
  },
  {
   "cell_type": "code",
   "execution_count": null,
   "metadata": {},
   "outputs": [],
   "source": [
    "plt.figure(figsize=(10,6))\n",
    "plt.title('Maratones que ha ganado Grete Waitz')\n",
    "ganadors_count = data_frame_test.marathon[data_frame_test.winner=='Grete Waitz'].value_counts().sort_values().plot(kind='barh')\n",
    "count_ganador = data_frame_test.marathon[data_frame_test.winner=='Grete Waitz'].value_counts()\n",
    "print(count_ganador)\n",
    "plt.savefig(\"C:\\\\Users\\\\Ale\\\\Documents\\\\GitHub\\\\py-macas-cevallos-alexandra-vanessa\\\\Proyecto_1_Bimestre\\\\evidence\\\\Maratones que ha ganado Grete Waitz.jpg\")\n",
    "plt.show()"
   ]
  },
  {
   "cell_type": "markdown",
   "metadata": {},
   "source": [
    "![](https://github.com/2019-B-GR1-Python/py-macas-cevallos-alexandra-vanessa/blob/desarrollo/Proyecto_1_Bimestre/evidence/Maratones%20que%20ha%20ganado%20Grete%20Waitz.jpg?raw=true)\n",
    "\n",
    "    NYC       9\n",
    "    London    2\n",
    "    Name: marathon, dtype: int64"
   ]
  },
  {
   "cell_type": "markdown",
   "metadata": {},
   "source": [
    "***Segregación de ganadores por género***\n",
    "\n",
    "En este caso se puede visualizar que existen más participantes hombres que mujeres, siendo un diferencia del 24%, pero la campeona como antes se visualizo que más veces ha ganado los mundiales es una mujer."
   ]
  },
  {
   "cell_type": "code",
   "execution_count": null,
   "metadata": {},
   "outputs": [],
   "source": [
    "genero = data_frame_test['gender'].value_counts()\n",
    "tipo_genero = ['Male','Female']\n",
    "plt.figure(figsize=(5,6))\n",
    "plt.title('Segregación de ganadores por genero')\n",
    "plt.bar(tipo_genero, genero, color = 'orangered')\n",
    "for a,b in zip(tipo_genero, genero):\n",
    "    plt.text(a,b,str(b),  horizontalalignment='center', fontsize=15, family = 'fantasy',fontweight = 'bold')\n",
    "plt.savefig(\"C:\\\\Users\\\\Ale\\\\Documents\\\\GitHub\\\\py-macas-cevallos-alexandra-vanessa\\\\Proyecto_1_Bimestre\\\\evidence\\\\Segregación de ganadores por genero.jpg\")\n",
    "plt.show()\n",
    "\n",
    "print(\"El genero del campeon Grete Witz es:\", data_frame_test.gender[data_frame_test.winner=='Grete Waitz'])"
   ]
  },
  {
   "cell_type": "markdown",
   "metadata": {},
   "source": [
    "![](https://github.com/2019-B-GR1-Python/py-macas-cevallos-alexandra-vanessa/blob/desarrollo/Proyecto_1_Bimestre/evidence/Segregaci%C3%B3n%20de%20ganadores%20por%20genero.jpg?raw=true)\n",
    "\n",
    "    El genero del campeon Grete Witz es: Female"
   ]
  },
  {
   "cell_type": "markdown",
   "metadata": {},
   "source": [
    "***Participantes por edad de mujeres***\n",
    "\n",
    "En este grafico se visualiza que en el top 10 de la edades de las participantes es de 40 años con un 31 veces."
   ]
  },
  {
   "cell_type": "code",
   "execution_count": null,
   "metadata": {},
   "outputs": [],
   "source": [
    "plt.title('Particiaciones por edad de mujeres')\n",
    "edades_mujeres = data_frame_test.age[data_frame_test.gender=='Female'].value_counts()[:10].plot(kind = 'bar')\n",
    "data_frame_test.age[data_frame_test.gender=='Female'].value_counts()[:10]\n",
    "plt.savefig(\"C:\\\\Users\\\\Ale\\\\Documents\\\\GitHub\\\\py-macas-cevallos-alexandra-vanessa\\\\Proyecto_1_Bimestre\\\\evidence\\\\Participación por edad en mujeres.jpg\")\n",
    "plt.show()"
   ]
  },
  {
   "cell_type": "markdown",
   "metadata": {},
   "source": [
    "![](https://github.com/2019-B-GR1-Python/py-macas-cevallos-alexandra-vanessa/blob/desarrollo/Proyecto_1_Bimestre/evidence/Participaci%C3%B3n%20por%20edad%20en%20mujeres.jpg?raw=true)\n",
    "\n",
    "    40    31\n",
    "    30    29\n",
    "    35    25\n",
    "    45    18\n",
    "    50    15\n",
    "    20    14\n",
    "    28    12\n",
    "    25    12\n",
    "    31    10\n",
    "    22     9\n",
    "    Name: age, dtype: int64"
   ]
  },
  {
   "cell_type": "markdown",
   "metadata": {},
   "source": [
    "***Participantes por edad de hombres***\n",
    "\n",
    "En este grafico se visualiza que en el top 10 de la edades de los participantes es de 53 años, con un 21,7 %."
   ]
  },
  {
   "cell_type": "code",
   "execution_count": null,
   "metadata": {},
   "outputs": [],
   "source": [
    "edades_hombres = data_frame_test.age[data_frame_test.gender=='Male'].value_counts()[:10]\n",
    "plt.title('Particiaciones por edad de hombres')\n",
    "plt.pie(edades_hombres, labels=edades_hombres,autopct=\"%0.1f %%\")\n",
    "plt.axis(\"equal\")\n",
    "plt.savefig(\"C:\\\\Users\\\\Ale\\\\Documents\\\\GitHub\\\\py-macas-cevallos-alexandra-vanessa\\\\Proyecto_1_Bimestre\\\\evidence\\\\Participación por edad en hombres.jpg\")\n",
    "plt.show()"
   ]
  },
  {
   "cell_type": "markdown",
   "metadata": {},
   "source": [
    "![](https://github.com/2019-B-GR1-Python/py-macas-cevallos-alexandra-vanessa/blob/desarrollo/Proyecto_1_Bimestre/evidence/Participaci%C3%B3n%20por%20edad%20en%20hombres.jpg?raw=true)\n",
    "\n",
    "    30    53\n",
    "    40    46\n",
    "    35    35\n",
    "    20    31\n",
    "    45    25\n",
    "    25    14\n",
    "    28    12\n",
    "    50    10\n",
    "    29     9\n",
    "    31     9\n",
    "    Name: age, dtype: int64"
   ]
  },
  {
   "cell_type": "markdown",
   "metadata": {},
   "source": [
    "***Participantes por genero y rango de edad***\n",
    "\n",
    "Porcetanjes de participantes por rango de edad de los cuales en general son entre 18 a 25 años."
   ]
  },
  {
   "cell_type": "code",
   "execution_count": null,
   "metadata": {},
   "outputs": [],
   "source": [
    "edad = data_frame_test['age'].value_counts()[:10]\n",
    "edadNum = [int(x) for x in edad]\n",
    "#edadNum.sort()\n",
    "a = 0 \n",
    "b = 0 \n",
    "c = 0\n",
    "d = 0 \n",
    "e = 0 \n",
    "f = 0\n",
    "for i in edadNum:\n",
    "    if(i<=25):\n",
    "        a = a+1\n",
    "    elif(i<=35 and i>25):\n",
    "        b = b+1\n",
    "    elif(i<=45 and i>35):\n",
    "        c = c+1\n",
    "    elif(i<=55 and i>45):\n",
    "        d = d+1\n",
    "    elif(i<=65 and i>55):\n",
    "        e = e+1\n",
    "    else:\n",
    "        f = f+1\n",
    "\n",
    "edades = [a,b,c,d,e,f]\n",
    "edadesCat = ['De 18 a 25 años', 'De 26 a 35 años', 'De 36 a 45 años', \n",
    "             'De 46 a 55 años', 'De 56 a 65 años', 'De 65 años en adelante']\n",
    "\n",
    "plt.title(\"Porcetanjes de participantes por rango de edad\")\n",
    "plt.pie(edades, labels=edadesCat, autopct='%1.1f%%',\n",
    "        shadow=True, startangle=90, radius = 1800)\n",
    "plt.axis('equal')\n",
    "plt.savefig(\"C:\\\\Users\\\\Ale\\\\Documents\\\\GitHub\\\\py-macas-cevallos-alexandra-vanessa\\\\Proyecto_1_Bimestre\\\\evidence\\\\Porcetanjes de participantes por rango de edad.jpg\")\n",
    "plt.show()\n",
    "\n"
   ]
  },
  {
   "cell_type": "markdown",
   "metadata": {},
   "source": [
    "\n",
    "![](https://github.com/2019-B-GR1-Python/py-macas-cevallos-alexandra-vanessa/blob/desarrollo/Proyecto_1_Bimestre/evidence/Porcetanjes%20de%20participantes%20por%20rango%20de%20edad.jpg?raw=true)"
   ]
  },
  {
   "cell_type": "markdown",
   "metadata": {},
   "source": [
    "***Tiempos de llegada de los participantes***"
   ]
  },
  {
   "cell_type": "code",
   "execution_count": null,
   "metadata": {},
   "outputs": [],
   "source": []
  },
  {
   "cell_type": "code",
   "execution_count": null,
   "metadata": {},
   "outputs": [],
   "source": []
  },
  {
   "cell_type": "code",
   "execution_count": null,
   "metadata": {},
   "outputs": [],
   "source": []
  },
  {
   "cell_type": "code",
   "execution_count": null,
   "metadata": {},
   "outputs": [],
   "source": []
  },
  {
   "cell_type": "code",
   "execution_count": null,
   "metadata": {},
   "outputs": [],
   "source": []
  },
  {
   "cell_type": "code",
   "execution_count": null,
   "metadata": {},
   "outputs": [],
   "source": []
  }
 ],
 "metadata": {
  "kernelspec": {
   "display_name": "Python 3",
   "language": "python",
   "name": "python3"
  },
  "language_info": {
   "codemirror_mode": {
    "name": "ipython",
    "version": 3
   },
   "file_extension": ".py",
   "mimetype": "text/x-python",
   "name": "python",
   "nbconvert_exporter": "python",
   "pygments_lexer": "ipython3",
   "version": "3.7.3"
  }
 },
 "nbformat": 4,
 "nbformat_minor": 2
}
